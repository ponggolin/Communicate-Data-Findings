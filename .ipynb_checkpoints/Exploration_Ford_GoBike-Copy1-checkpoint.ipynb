{
 "cells": [
  {
   "cell_type": "markdown",
   "metadata": {},
   "source": [
    "# Ford GoBike Project: Communicate Data Findings\n",
    "## by Che-Hsien Lin\n",
    "\n",
    "## Preliminary Wrangling  \n",
    "\n",
    "In this project, I will focus on the data of Ford GoBike from 2018 to February 2019.  \n",
    "\n",
    "Ford GoBike Data: https://s3.amazonaws.com/fordgobike-data/index.html"
   ]
  },
  {
   "cell_type": "code",
   "execution_count": 1,
   "metadata": {},
   "outputs": [],
   "source": [
    "# Import packages.\n",
    "from os import makedirs, listdir\n",
    "import pandas as pd\n",
    "from requests import get\n",
    "from zipfile import ZipFile\n",
    "from io import BytesIO\n",
    "import numpy as np\n",
    "import matplotlib\n",
    "from matplotlib import pyplot as plt\n",
    "import matplotlib.ticker as tick\n",
    "import seaborn as sns\n",
    "import datetime\n",
    "import calendar\n",
    "import warnings\n",
    "warnings.filterwarnings('ignore')\n",
    "from IPython.display import Image\n",
    "%matplotlib inline"
   ]
  },
  {
   "cell_type": "code",
   "execution_count": 3,
   "metadata": {},
   "outputs": [],
   "source": [
    "# Make a folder for saving csv files.\n",
    "folder_csv = 'trip_csv_files'\n",
    "makedirs(folder_csv)"
   ]
  },
  {
   "cell_type": "code",
   "execution_count": 4,
   "metadata": {},
   "outputs": [],
   "source": [
    "# Download 2018 zip files and extract them.\n",
    "for month in range(1,13):\n",
    "    month_string = str(month)\n",
    "    month_leading_zero = month_string.zfill(2)\n",
    "    \n",
    "    # Create the url and download zip files from it.\n",
    "    bike_data_url_2018 = 'https://s3.amazonaws.com/fordgobike-data/2018' + month_leading_zero + '-fordgobike-tripdata.csv.zip'\n",
    "    response_2018 = get(bike_data_url_2018)\n",
    "    \n",
    "    # Open the zip files, and return readable and writeable view of the contents.\n",
    "    unzipped_file_2018 = ZipFile(BytesIO(response_2018.content)) \n",
    "    \n",
    "    # Put extracted zip file into folder trip_data_files.\n",
    "    unzipped_file_2018.extractall(folder_csv)"
   ]
  },
  {
   "cell_type": "code",
   "execution_count": 5,
   "metadata": {},
   "outputs": [],
   "source": [
    "# Download 2019 zip files and extract them (only January and February).\n",
    "for month in range(1,3):\n",
    "    month_string = str(month)\n",
    "    month_leading_zero = month_string.zfill(2)\n",
    "    \n",
    "    # Create the url and download zip files from it.\n",
    "    bike_data_url_2019 = 'https://s3.amazonaws.com/fordgobike-data/2019' + month_leading_zero + '-fordgobike-tripdata.csv.zip'\n",
    "    response_2019 = get(bike_data_url_2019)\n",
    "    \n",
    "    # Open the zip files, and return readable and writeable view of the contents.\n",
    "    unzipped_file_2019 = ZipFile(BytesIO(response_2019.content))    \n",
    "    \n",
    "    # Put extracted zip file into folder trip_data_files.\n",
    "    unzipped_file_2019.extractall(folder_csv)"
   ]
  },
  {
   "cell_type": "code",
   "execution_count": 6,
   "metadata": {},
   "outputs": [],
   "source": [
    "# Combine all csv files to one data frame.\n",
    "list_csvs = []\n",
    "for file_name in listdir(folder_csv):\n",
    "    list_csvs.append(pd.read_csv(folder_csv+'/'+file_name))\n",
    "df = pd.concat(list_csvs)\n",
    "df.to_csv('raw_data.csv', index=False)"
   ]
  },
  {
   "cell_type": "code",
   "execution_count": 7,
   "metadata": {},
   "outputs": [],
   "source": [
    "# Examine DataFrame.\n",
    "df = pd.read_csv('raw_data.csv')"
   ]
  },
  {
   "cell_type": "code",
   "execution_count": 9,
   "metadata": {},
   "outputs": [
    {
     "name": "stdout",
     "output_type": "stream",
     "text": [
      "<class 'pandas.core.frame.DataFrame'>\n",
      "RangeIndex: 2239215 entries, 0 to 2239214\n",
      "Data columns (total 16 columns):\n",
      "duration_sec               int64\n",
      "start_time                 object\n",
      "end_time                   object\n",
      "start_station_id           float64\n",
      "start_station_name         object\n",
      "start_station_latitude     float64\n",
      "start_station_longitude    float64\n",
      "end_station_id             float64\n",
      "end_station_name           object\n",
      "end_station_latitude       float64\n",
      "end_station_longitude      float64\n",
      "bike_id                    int64\n",
      "user_type                  object\n",
      "member_birth_year          float64\n",
      "member_gender              object\n",
      "bike_share_for_all_trip    object\n",
      "dtypes: float64(7), int64(2), object(7)\n",
      "memory usage: 273.3+ MB\n"
     ]
    }
   ],
   "source": [
    "df.info()"
   ]
  },
  {
   "cell_type": "code",
   "execution_count": 10,
   "metadata": {
    "scrolled": false
   },
   "outputs": [
    {
     "data": {
      "text/html": [
       "<div>\n",
       "<style scoped>\n",
       "    .dataframe tbody tr th:only-of-type {\n",
       "        vertical-align: middle;\n",
       "    }\n",
       "\n",
       "    .dataframe tbody tr th {\n",
       "        vertical-align: top;\n",
       "    }\n",
       "\n",
       "    .dataframe thead th {\n",
       "        text-align: right;\n",
       "    }\n",
       "</style>\n",
       "<table border=\"1\" class=\"dataframe\">\n",
       "  <thead>\n",
       "    <tr style=\"text-align: right;\">\n",
       "      <th></th>\n",
       "      <th>duration_sec</th>\n",
       "      <th>start_time</th>\n",
       "      <th>end_time</th>\n",
       "      <th>start_station_id</th>\n",
       "      <th>start_station_name</th>\n",
       "      <th>start_station_latitude</th>\n",
       "      <th>start_station_longitude</th>\n",
       "      <th>end_station_id</th>\n",
       "      <th>end_station_name</th>\n",
       "      <th>end_station_latitude</th>\n",
       "      <th>end_station_longitude</th>\n",
       "      <th>bike_id</th>\n",
       "      <th>user_type</th>\n",
       "      <th>member_birth_year</th>\n",
       "      <th>member_gender</th>\n",
       "      <th>bike_share_for_all_trip</th>\n",
       "    </tr>\n",
       "  </thead>\n",
       "  <tbody>\n",
       "    <tr>\n",
       "      <th>0</th>\n",
       "      <td>75284</td>\n",
       "      <td>2018-01-31 22:52:35.2390</td>\n",
       "      <td>2018-02-01 19:47:19.8240</td>\n",
       "      <td>120.0</td>\n",
       "      <td>Mission Dolores Park</td>\n",
       "      <td>37.761420</td>\n",
       "      <td>-122.426435</td>\n",
       "      <td>285.0</td>\n",
       "      <td>Webster St at O'Farrell St</td>\n",
       "      <td>37.783521</td>\n",
       "      <td>-122.431158</td>\n",
       "      <td>2765</td>\n",
       "      <td>Subscriber</td>\n",
       "      <td>1986.0</td>\n",
       "      <td>Male</td>\n",
       "      <td>No</td>\n",
       "    </tr>\n",
       "    <tr>\n",
       "      <th>1</th>\n",
       "      <td>85422</td>\n",
       "      <td>2018-01-31 16:13:34.3510</td>\n",
       "      <td>2018-02-01 15:57:17.3100</td>\n",
       "      <td>15.0</td>\n",
       "      <td>San Francisco Ferry Building (Harry Bridges Pl...</td>\n",
       "      <td>37.795392</td>\n",
       "      <td>-122.394203</td>\n",
       "      <td>15.0</td>\n",
       "      <td>San Francisco Ferry Building (Harry Bridges Pl...</td>\n",
       "      <td>37.795392</td>\n",
       "      <td>-122.394203</td>\n",
       "      <td>2815</td>\n",
       "      <td>Customer</td>\n",
       "      <td>NaN</td>\n",
       "      <td>NaN</td>\n",
       "      <td>No</td>\n",
       "    </tr>\n",
       "    <tr>\n",
       "      <th>2</th>\n",
       "      <td>71576</td>\n",
       "      <td>2018-01-31 14:23:55.8890</td>\n",
       "      <td>2018-02-01 10:16:52.1160</td>\n",
       "      <td>304.0</td>\n",
       "      <td>Jackson St at 5th St</td>\n",
       "      <td>37.348759</td>\n",
       "      <td>-121.894798</td>\n",
       "      <td>296.0</td>\n",
       "      <td>5th St at Virginia St</td>\n",
       "      <td>37.325998</td>\n",
       "      <td>-121.877120</td>\n",
       "      <td>3039</td>\n",
       "      <td>Customer</td>\n",
       "      <td>1996.0</td>\n",
       "      <td>Male</td>\n",
       "      <td>No</td>\n",
       "    </tr>\n",
       "    <tr>\n",
       "      <th>3</th>\n",
       "      <td>61076</td>\n",
       "      <td>2018-01-31 14:53:23.5620</td>\n",
       "      <td>2018-02-01 07:51:20.5000</td>\n",
       "      <td>75.0</td>\n",
       "      <td>Market St at Franklin St</td>\n",
       "      <td>37.773793</td>\n",
       "      <td>-122.421239</td>\n",
       "      <td>47.0</td>\n",
       "      <td>4th St at Harrison St</td>\n",
       "      <td>37.780955</td>\n",
       "      <td>-122.399749</td>\n",
       "      <td>321</td>\n",
       "      <td>Customer</td>\n",
       "      <td>NaN</td>\n",
       "      <td>NaN</td>\n",
       "      <td>No</td>\n",
       "    </tr>\n",
       "    <tr>\n",
       "      <th>4</th>\n",
       "      <td>39966</td>\n",
       "      <td>2018-01-31 19:52:24.6670</td>\n",
       "      <td>2018-02-01 06:58:31.0530</td>\n",
       "      <td>74.0</td>\n",
       "      <td>Laguna St at Hayes St</td>\n",
       "      <td>37.776435</td>\n",
       "      <td>-122.426244</td>\n",
       "      <td>19.0</td>\n",
       "      <td>Post St at Kearny St</td>\n",
       "      <td>37.788975</td>\n",
       "      <td>-122.403452</td>\n",
       "      <td>617</td>\n",
       "      <td>Subscriber</td>\n",
       "      <td>1991.0</td>\n",
       "      <td>Male</td>\n",
       "      <td>No</td>\n",
       "    </tr>\n",
       "  </tbody>\n",
       "</table>\n",
       "</div>"
      ],
      "text/plain": [
       "   duration_sec                start_time                  end_time  \\\n",
       "0         75284  2018-01-31 22:52:35.2390  2018-02-01 19:47:19.8240   \n",
       "1         85422  2018-01-31 16:13:34.3510  2018-02-01 15:57:17.3100   \n",
       "2         71576  2018-01-31 14:23:55.8890  2018-02-01 10:16:52.1160   \n",
       "3         61076  2018-01-31 14:53:23.5620  2018-02-01 07:51:20.5000   \n",
       "4         39966  2018-01-31 19:52:24.6670  2018-02-01 06:58:31.0530   \n",
       "\n",
       "   start_station_id                                 start_station_name  \\\n",
       "0             120.0                               Mission Dolores Park   \n",
       "1              15.0  San Francisco Ferry Building (Harry Bridges Pl...   \n",
       "2             304.0                               Jackson St at 5th St   \n",
       "3              75.0                           Market St at Franklin St   \n",
       "4              74.0                              Laguna St at Hayes St   \n",
       "\n",
       "   start_station_latitude  start_station_longitude  end_station_id  \\\n",
       "0               37.761420              -122.426435           285.0   \n",
       "1               37.795392              -122.394203            15.0   \n",
       "2               37.348759              -121.894798           296.0   \n",
       "3               37.773793              -122.421239            47.0   \n",
       "4               37.776435              -122.426244            19.0   \n",
       "\n",
       "                                    end_station_name  end_station_latitude  \\\n",
       "0                         Webster St at O'Farrell St             37.783521   \n",
       "1  San Francisco Ferry Building (Harry Bridges Pl...             37.795392   \n",
       "2                              5th St at Virginia St             37.325998   \n",
       "3                              4th St at Harrison St             37.780955   \n",
       "4                               Post St at Kearny St             37.788975   \n",
       "\n",
       "   end_station_longitude  bike_id   user_type  member_birth_year  \\\n",
       "0            -122.431158     2765  Subscriber             1986.0   \n",
       "1            -122.394203     2815    Customer                NaN   \n",
       "2            -121.877120     3039    Customer             1996.0   \n",
       "3            -122.399749      321    Customer                NaN   \n",
       "4            -122.403452      617  Subscriber             1991.0   \n",
       "\n",
       "  member_gender bike_share_for_all_trip  \n",
       "0          Male                      No  \n",
       "1           NaN                      No  \n",
       "2          Male                      No  \n",
       "3           NaN                      No  \n",
       "4          Male                      No  "
      ]
     },
     "execution_count": 10,
     "metadata": {},
     "output_type": "execute_result"
    }
   ],
   "source": [
    "df.head()"
   ]
  },
  {
   "cell_type": "code",
   "execution_count": 11,
   "metadata": {
    "scrolled": false
   },
   "outputs": [
    {
     "name": "stdout",
     "output_type": "stream",
     "text": [
      "<class 'pandas.core.frame.DataFrame'>\n",
      "RangeIndex: 2239215 entries, 0 to 2239214\n",
      "Data columns (total 7 columns):\n",
      "duration_sec         int64\n",
      "start_time           object\n",
      "end_time             object\n",
      "bike_id              int64\n",
      "user_type            object\n",
      "member_birth_year    float64\n",
      "member_gender        object\n",
      "dtypes: float64(1), int64(2), object(4)\n",
      "memory usage: 119.6+ MB\n"
     ]
    }
   ],
   "source": [
    "# Drop unwanted columns.\n",
    "df = df.drop(['start_station_id', 'start_station_name', 'start_station_latitude', 'start_station_longitude', 'end_station_id', 'end_station_name', 'end_station_latitude', 'end_station_longitude', 'bike_share_for_all_trip'], axis=1)\n",
    "df.info()"
   ]
  },
  {
   "cell_type": "code",
   "execution_count": 12,
   "metadata": {
    "scrolled": false
   },
   "outputs": [
    {
     "data": {
      "text/plain": [
       "141.0         1\n",
       "116.0         1\n",
       "109.0         1\n",
       "113.0         2\n",
       "89.0          2\n",
       "130.0         3\n",
       "110.0         4\n",
       "138.0         5\n",
       "115.0        12\n",
       "105.0        18\n",
       "92.0         21\n",
       "91.0         21\n",
       "131.0        23\n",
       "87.0         34\n",
       "79.0         41\n",
       "118.0        44\n",
       "81.0         47\n",
       "18.0         54\n",
       "80.0         55\n",
       "85.0         76\n",
       "99.0         96\n",
       "95.0        134\n",
       "78.0        142\n",
       "84.0        157\n",
       "117.0       192\n",
       "108.0       262\n",
       "86.0        266\n",
       "75.0        274\n",
       "73.0        294\n",
       "83.0        305\n",
       "          ...  \n",
       "54.0      24832\n",
       "21.0      25548\n",
       "47.0      26220\n",
       "51.0      28056\n",
       "48.0      28760\n",
       "46.0      29138\n",
       "22.0      33033\n",
       "45.0      33879\n",
       "43.0      34597\n",
       "44.0      38928\n",
       "41.0      43143\n",
       "23.0      44291\n",
       "42.0      44495\n",
       "40.0      46287\n",
       "38.0      58720\n",
       "39.0      58915\n",
       "24.0      65480\n",
       "37.0      73484\n",
       "25.0      77189\n",
       "36.0      78417\n",
       "35.0      85045\n",
       "27.0      85496\n",
       "33.0      92122\n",
       "34.0      93777\n",
       "28.0      95030\n",
       "26.0      96654\n",
       "29.0      99866\n",
       "30.0     103060\n",
       "32.0     103521\n",
       "31.0     124016\n",
       "Name: member_age, Length: 89, dtype: int64"
      ]
     },
     "execution_count": 12,
     "metadata": {},
     "output_type": "execute_result"
    }
   ],
   "source": [
    "# Get member age and see value_counts.\n",
    "df['member_age'] = 2019 - df['member_birth_year'] \n",
    "df['member_age'].value_counts().sort_values()"
   ]
  },
  {
   "cell_type": "code",
   "execution_count": 14,
   "metadata": {
    "scrolled": true
   },
   "outputs": [
    {
     "data": {
      "image/png": "[encoded data removed]",
      "text/plain": [
       "<Figure size 720x360 with 1 Axes>"
      ]
     },
     "metadata": {
      "needs_background": "light"
     },
     "output_type": "display_data"
    }
   ],
   "source": [
    "# View the age distribution from a boxplot.\n",
    "plt.figure(figsize=(10,5))\n",
    "sns.boxplot(x='member_age', data=df, palette='Blues', orient='h')\n",
    "plt.title(\"Age Distribution\", fontsize=20, y=1)\n",
    "plt.xlabel(\"member_age\", fontsize=15, labelpad=15)\n",
    "plt.ylabel(\"counts\", fontsize=15, labelpad=15);"
   ]
  },
  {
   "cell_type": "code",
   "execution_count": 15,
   "metadata": {
    "scrolled": true
   },
   "outputs": [
    {
     "name": "stdout",
     "output_type": "stream",
     "text": [
      "<class 'pandas.core.frame.DataFrame'>\n",
      "Int64Index: 2058548 entries, 0 to 2239214\n",
      "Data columns (total 7 columns):\n",
      "duration_sec     int64\n",
      "start_time       object\n",
      "end_time         object\n",
      "bike_id          int64\n",
      "user_type        object\n",
      "member_gender    object\n",
      "member_age       float64\n",
      "dtypes: float64(1), int64(2), object(4)\n",
      "memory usage: 125.6+ MB\n"
     ]
    }
   ],
   "source": [
    "# Filter the data which user_age <= 60 and drop 'member_birth_year' column.\n",
    "df = df[df['member_age'] <= 60]\n",
    "df = df.drop(['member_birth_year'], axis=1)\n",
    "df.info()"
   ]
  },
  {
   "cell_type": "code",
   "execution_count": 16,
   "metadata": {
    "scrolled": false
   },
   "outputs": [
    {
     "data": {
      "text/plain": [
       "Male      1510996\n",
       "Female     513992\n",
       "Other       33560\n",
       "Name: member_gender, dtype: int64"
      ]
     },
     "execution_count": 16,
     "metadata": {},
     "output_type": "execute_result"
    }
   ],
   "source": [
    "df.member_gender.value_counts()"
   ]
  },
  {
   "cell_type": "code",
   "execution_count": 17,
   "metadata": {
    "scrolled": true
   },
   "outputs": [
    {
     "data": {
      "text/plain": [
       "Male      1510996\n",
       "Female     513992\n",
       "Name: member_gender, dtype: int64"
      ]
     },
     "execution_count": 17,
     "metadata": {},
     "output_type": "execute_result"
    }
   ],
   "source": [
    "# Filter the data by keeping only male or female.\n",
    "df = df[df['member_gender'] != 'Other']\n",
    "df.member_gender.value_counts()"
   ]
  },
  {
   "cell_type": "code",
   "execution_count": 18,
   "metadata": {},
   "outputs": [
    {
     "name": "stdout",
     "output_type": "stream",
     "text": [
      "<class 'pandas.core.frame.DataFrame'>\n",
      "Int64Index: 2024988 entries, 0 to 2239214\n",
      "Data columns (total 7 columns):\n",
      "duration_sec     int64\n",
      "start_time       object\n",
      "end_time         object\n",
      "bike_id          int64\n",
      "user_type        object\n",
      "member_gender    object\n",
      "member_age       float64\n",
      "dtypes: float64(1), int64(2), object(4)\n",
      "memory usage: 123.6+ MB\n"
     ]
    }
   ],
   "source": [
    "df.info()"
   ]
  },
  {
   "cell_type": "code",
   "execution_count": 19,
   "metadata": {},
   "outputs": [],
   "source": [
    "df.to_csv('clean_data.csv', index=False)"
   ]
  },
  {
   "cell_type": "markdown",
   "metadata": {},
   "source": [
    "### What is the structure of your dataset?\n",
    "\n",
    "> There are 2,024,988 entries in the data frame which only includes member age <= 60 and the gender is male or female. The data contains time & duration & user_type & gender & age.\n",
    "\n",
    "### What is/are the main feature(s) of interest in your dataset?\n",
    "\n",
    "> The main features of interest are gender, age, user type, time and duration.\n",
    "\n",
    "### What features in the dataset do you think will help support your investigation into your feature(s) of interest?\n",
    "\n",
    "> I think user_typer and time will help my investigation."
   ]
  },
  {
   "cell_type": "markdown",
   "metadata": {},
   "source": [
    "## Univariate Exploration"
   ]
  },
  {
   "cell_type": "code",
   "execution_count": 20,
   "metadata": {
    "scrolled": false
   },
   "outputs": [
    {
     "name": "stdout",
     "output_type": "stream",
     "text": [
      "<class 'pandas.core.frame.DataFrame'>\n",
      "RangeIndex: 2024988 entries, 0 to 2024987\n",
      "Data columns (total 7 columns):\n",
      "duration_sec     int64\n",
      "start_time       object\n",
      "end_time         object\n",
      "bike_id          int64\n",
      "user_type        object\n",
      "member_gender    object\n",
      "member_age       float64\n",
      "dtypes: float64(1), int64(2), object(4)\n",
      "memory usage: 108.1+ MB\n"
     ]
    }
   ],
   "source": [
    "df = pd.read_csv('clean_data.csv')\n",
    "df.info()"
   ]
  },
  {
   "cell_type": "code",
   "execution_count": 21,
   "metadata": {
    "scrolled": true
   },
   "outputs": [],
   "source": [
    "# Change start_time and end_time data type to datetime.\n",
    "df['start_time'] = pd.to_datetime(df['start_time'])\n",
    "df['end_time'] = pd.to_datetime(df['end_time'])"
   ]
  },
  {
   "cell_type": "code",
   "execution_count": 22,
   "metadata": {
    "scrolled": true
   },
   "outputs": [
    {
     "data": {
      "text/html": [
       "<div>\n",
       "<style scoped>\n",
       "    .dataframe tbody tr th:only-of-type {\n",
       "        vertical-align: middle;\n",
       "    }\n",
       "\n",
       "    .dataframe tbody tr th {\n",
       "        vertical-align: top;\n",
       "    }\n",
       "\n",
       "    .dataframe thead th {\n",
       "        text-align: right;\n",
       "    }\n",
       "</style>\n",
       "<table border=\"1\" class=\"dataframe\">\n",
       "  <thead>\n",
       "    <tr style=\"text-align: right;\">\n",
       "      <th></th>\n",
       "      <th>duration_sec</th>\n",
       "      <th>start_time</th>\n",
       "      <th>end_time</th>\n",
       "      <th>bike_id</th>\n",
       "      <th>user_type</th>\n",
       "      <th>member_gender</th>\n",
       "      <th>member_age</th>\n",
       "      <th>start_time_date</th>\n",
       "      <th>end_time_date</th>\n",
       "    </tr>\n",
       "  </thead>\n",
       "  <tbody>\n",
       "    <tr>\n",
       "      <th>0</th>\n",
       "      <td>75284</td>\n",
       "      <td>2018-01-31 22:52:35.239</td>\n",
       "      <td>2018-02-01 19:47:19.824</td>\n",
       "      <td>2765</td>\n",
       "      <td>Subscriber</td>\n",
       "      <td>Male</td>\n",
       "      <td>33.0</td>\n",
       "      <td>2018-01-31</td>\n",
       "      <td>2018-02-01</td>\n",
       "    </tr>\n",
       "    <tr>\n",
       "      <th>1</th>\n",
       "      <td>71576</td>\n",
       "      <td>2018-01-31 14:23:55.889</td>\n",
       "      <td>2018-02-01 10:16:52.116</td>\n",
       "      <td>3039</td>\n",
       "      <td>Customer</td>\n",
       "      <td>Male</td>\n",
       "      <td>23.0</td>\n",
       "      <td>2018-01-31</td>\n",
       "      <td>2018-02-01</td>\n",
       "    </tr>\n",
       "    <tr>\n",
       "      <th>2</th>\n",
       "      <td>39966</td>\n",
       "      <td>2018-01-31 19:52:24.667</td>\n",
       "      <td>2018-02-01 06:58:31.053</td>\n",
       "      <td>617</td>\n",
       "      <td>Subscriber</td>\n",
       "      <td>Male</td>\n",
       "      <td>28.0</td>\n",
       "      <td>2018-01-31</td>\n",
       "      <td>2018-02-01</td>\n",
       "    </tr>\n",
       "    <tr>\n",
       "      <th>3</th>\n",
       "      <td>453</td>\n",
       "      <td>2018-01-31 23:53:53.632</td>\n",
       "      <td>2018-02-01 00:01:26.805</td>\n",
       "      <td>3571</td>\n",
       "      <td>Subscriber</td>\n",
       "      <td>Male</td>\n",
       "      <td>31.0</td>\n",
       "      <td>2018-01-31</td>\n",
       "      <td>2018-02-01</td>\n",
       "    </tr>\n",
       "    <tr>\n",
       "      <th>4</th>\n",
       "      <td>180</td>\n",
       "      <td>2018-01-31 23:52:09.903</td>\n",
       "      <td>2018-01-31 23:55:10.807</td>\n",
       "      <td>1403</td>\n",
       "      <td>Subscriber</td>\n",
       "      <td>Male</td>\n",
       "      <td>39.0</td>\n",
       "      <td>2018-01-31</td>\n",
       "      <td>2018-01-31</td>\n",
       "    </tr>\n",
       "  </tbody>\n",
       "</table>\n",
       "</div>"
      ],
      "text/plain": [
       "   duration_sec              start_time                end_time  bike_id  \\\n",
       "0         75284 2018-01-31 22:52:35.239 2018-02-01 19:47:19.824     2765   \n",
       "1         71576 2018-01-31 14:23:55.889 2018-02-01 10:16:52.116     3039   \n",
       "2         39966 2018-01-31 19:52:24.667 2018-02-01 06:58:31.053      617   \n",
       "3           453 2018-01-31 23:53:53.632 2018-02-01 00:01:26.805     3571   \n",
       "4           180 2018-01-31 23:52:09.903 2018-01-31 23:55:10.807     1403   \n",
       "\n",
       "    user_type member_gender  member_age start_time_date end_time_date  \n",
       "0  Subscriber          Male        33.0      2018-01-31    2018-02-01  \n",
       "1    Customer          Male        23.0      2018-01-31    2018-02-01  \n",
       "2  Subscriber          Male        28.0      2018-01-31    2018-02-01  \n",
       "3  Subscriber          Male        31.0      2018-01-31    2018-02-01  \n",
       "4  Subscriber          Male        39.0      2018-01-31    2018-01-31  "
      ]
     },
     "execution_count": 22,
     "metadata": {},
     "output_type": "execute_result"
    }
   ],
   "source": [
    "# Generate 'date' columns.\n",
    "df['start_time_date'] = df['start_time'].dt.date\n",
    "df['end_time_date'] = df['end_time'].dt.date\n",
    "df.head()"
   ]
  },
  {
   "cell_type": "code",
   "execution_count": 23,
   "metadata": {
    "scrolled": true
   },
   "outputs": [],
   "source": [
    "# Generate 'year_month' columns.\n",
    "df['start_time_year_month'] = df['start_time'].map(lambda x: x.strftime('%Y-%m'))\n",
    "df['end_time_year_month'] = df['end_time'].map(lambda x: x.strftime('%Y-%m'))"
   ]
  },
  {
   "cell_type": "code",
   "execution_count": 24,
   "metadata": {},
   "outputs": [],
   "source": [
    "# Generate 'year' and 'month' columns then change the data type to int.\n",
    "df['start_time_year'] = df['start_time'].dt.year.astype(int)\n",
    "df['end_time_year'] = df['end_time'].dt.year.astype(int)\n",
    "df['start_time_month'] = df['start_time'].dt.month.astype(int)\n",
    "df['end_time_month'] = df['end_time'].dt.month.astype(int)"
   ]
  },
  {
   "cell_type": "code",
   "execution_count": 25,
   "metadata": {},
   "outputs": [],
   "source": [
    "# Generate 'hour_minute' and 'hour' columns.\n",
    "df['start_time_hour_minute'] = df['start_time'].map(lambda x: x.strftime('%H-%m'))\n",
    "df['end_time_hour_minute'] = df['end_time'].map(lambda x: x.strftime('%H-%m'))\n",
    "df['start_time_hour'] = df['start_time'].dt.hour\n",
    "df['end_time_hour'] = df['end_time'].dt.hour"
   ]
  },
  {
   "cell_type": "code",
   "execution_count": 26,
   "metadata": {},
   "outputs": [],
   "source": [
    "# Generate 'weekday' and 'weekday_abbr' columns.\n",
    "df['start_time_weekday'] = df['start_time'].dt.weekday_name\n",
    "df['end_time_weekday'] = df['end_time'].dt.weekday_name\n",
    "df['start_time_weekday_abbr'] = df['start_time'].dt.weekday.apply(lambda x: calendar.day_abbr[x])\n",
    "df['end_time_weekday_abbr'] = df['end_time'].dt.weekday.apply(lambda x: calendar.day_abbr[x])"
   ]
  },
  {
   "cell_type": "code",
   "execution_count": 27,
   "metadata": {},
   "outputs": [],
   "source": [
    "# Generate a 'renamed' column for a better view on the chart.\n",
    "df['start_time_year_month_renamed'] = df['start_time'].dt.strftime('%y' + '-' + '%m')"
   ]
  },
  {
   "cell_type": "code",
   "execution_count": 28,
   "metadata": {},
   "outputs": [],
   "source": [
    "# Generate a 'member_age_bin' column based on the different age range.\n",
    "df['member_age_bins'] = df['member_age'].apply(lambda x: '10 - 20' if 10<x<=20\n",
    "                                                  else '20 - 30' if 20<x<=30\n",
    "                                                  else '30 - 40' if 30<x<=40\n",
    "                                                  else '40 - 50' if 40<x<=50\n",
    "                                                  else '50 - 60' if 50<x<=60\n",
    "                                                  else x)"
   ]
  },
  {
   "cell_type": "code",
   "execution_count": 30,
   "metadata": {},
   "outputs": [],
   "source": [
    "# Generate duration_min from duration_sec for a better readable purpose.\n",
    "df['duration_min'] = df['duration_sec']/60"
   ]
  },
  {
   "cell_type": "code",
   "execution_count": 31,
   "metadata": {
    "scrolled": true
   },
   "outputs": [
    {
     "name": "stdout",
     "output_type": "stream",
     "text": [
      "<class 'pandas.core.frame.DataFrame'>\n",
      "RangeIndex: 2024988 entries, 0 to 2024987\n",
      "Data columns (total 26 columns):\n",
      "duration_sec                     int64\n",
      "start_time                       datetime64[ns]\n",
      "end_time                         datetime64[ns]\n",
      "bike_id                          int64\n",
      "user_type                        object\n",
      "member_gender                    object\n",
      "member_age                       float64\n",
      "start_time_date                  object\n",
      "end_time_date                    object\n",
      "start_time_year_month            object\n",
      "end_time_year_month              object\n",
      "start_time_year                  int32\n",
      "end_time_year                    int32\n",
      "start_time_month                 int32\n",
      "end_time_month                   int32\n",
      "start_time_hour_minute           object\n",
      "end_time_hour_minute             object\n",
      "start_time_hour                  int64\n",
      "end_time_hour                    int64\n",
      "start_time_weekday               object\n",
      "end_time_weekday                 object\n",
      "start_time_weekday_abbr          object\n",
      "end_time_weekday_abbr            object\n",
      "start_time_year_month_renamed    object\n",
      "member_age_bins                  object\n",
      "duration_min                     float64\n",
      "dtypes: datetime64[ns](2), float64(2), int32(4), int64(4), object(14)\n",
      "memory usage: 370.8+ MB\n"
     ]
    }
   ],
   "source": [
    "df.info()"
   ]
  },
  {
   "cell_type": "code",
   "execution_count": 32,
   "metadata": {},
   "outputs": [
    {
     "data": {
      "text/html": [
       "<div>\n",
       "<style scoped>\n",
       "    .dataframe tbody tr th:only-of-type {\n",
       "        vertical-align: middle;\n",
       "    }\n",
       "\n",
       "    .dataframe tbody tr th {\n",
       "        vertical-align: top;\n",
       "    }\n",
       "\n",
       "    .dataframe thead th {\n",
       "        text-align: right;\n",
       "    }\n",
       "</style>\n",
       "<table border=\"1\" class=\"dataframe\">\n",
       "  <thead>\n",
       "    <tr style=\"text-align: right;\">\n",
       "      <th></th>\n",
       "      <th>duration_sec</th>\n",
       "      <th>start_time</th>\n",
       "      <th>end_time</th>\n",
       "      <th>bike_id</th>\n",
       "      <th>user_type</th>\n",
       "      <th>member_gender</th>\n",
       "      <th>member_age</th>\n",
       "      <th>start_time_date</th>\n",
       "      <th>end_time_date</th>\n",
       "      <th>start_time_year_month</th>\n",
       "      <th>...</th>\n",
       "      <th>end_time_hour_minute</th>\n",
       "      <th>start_time_hour</th>\n",
       "      <th>end_time_hour</th>\n",
       "      <th>start_time_weekday</th>\n",
       "      <th>end_time_weekday</th>\n",
       "      <th>start_time_weekday_abbr</th>\n",
       "      <th>end_time_weekday_abbr</th>\n",
       "      <th>start_time_year_month_renamed</th>\n",
       "      <th>member_age_bins</th>\n",
       "      <th>duration_min</th>\n",
       "    </tr>\n",
       "  </thead>\n",
       "  <tbody>\n",
       "    <tr>\n",
       "      <th>0</th>\n",
       "      <td>75284</td>\n",
       "      <td>2018-01-31 22:52:35.239</td>\n",
       "      <td>2018-02-01 19:47:19.824</td>\n",
       "      <td>2765</td>\n",
       "      <td>Subscriber</td>\n",
       "      <td>Male</td>\n",
       "      <td>33.0</td>\n",
       "      <td>2018-01-31</td>\n",
       "      <td>2018-02-01</td>\n",
       "      <td>2018-01</td>\n",
       "      <td>...</td>\n",
       "      <td>19-02</td>\n",
       "      <td>22</td>\n",
       "      <td>19</td>\n",
       "      <td>Wednesday</td>\n",
       "      <td>Thursday</td>\n",
       "      <td>Wed</td>\n",
       "      <td>Thu</td>\n",
       "      <td>18-01</td>\n",
       "      <td>30 - 40</td>\n",
       "      <td>1254.733333</td>\n",
       "    </tr>\n",
       "    <tr>\n",
       "      <th>1</th>\n",
       "      <td>71576</td>\n",
       "      <td>2018-01-31 14:23:55.889</td>\n",
       "      <td>2018-02-01 10:16:52.116</td>\n",
       "      <td>3039</td>\n",
       "      <td>Customer</td>\n",
       "      <td>Male</td>\n",
       "      <td>23.0</td>\n",
       "      <td>2018-01-31</td>\n",
       "      <td>2018-02-01</td>\n",
       "      <td>2018-01</td>\n",
       "      <td>...</td>\n",
       "      <td>10-02</td>\n",
       "      <td>14</td>\n",
       "      <td>10</td>\n",
       "      <td>Wednesday</td>\n",
       "      <td>Thursday</td>\n",
       "      <td>Wed</td>\n",
       "      <td>Thu</td>\n",
       "      <td>18-01</td>\n",
       "      <td>20 - 30</td>\n",
       "      <td>1192.933333</td>\n",
       "    </tr>\n",
       "    <tr>\n",
       "      <th>2</th>\n",
       "      <td>39966</td>\n",
       "      <td>2018-01-31 19:52:24.667</td>\n",
       "      <td>2018-02-01 06:58:31.053</td>\n",
       "      <td>617</td>\n",
       "      <td>Subscriber</td>\n",
       "      <td>Male</td>\n",
       "      <td>28.0</td>\n",
       "      <td>2018-01-31</td>\n",
       "      <td>2018-02-01</td>\n",
       "      <td>2018-01</td>\n",
       "      <td>...</td>\n",
       "      <td>06-02</td>\n",
       "      <td>19</td>\n",
       "      <td>6</td>\n",
       "      <td>Wednesday</td>\n",
       "      <td>Thursday</td>\n",
       "      <td>Wed</td>\n",
       "      <td>Thu</td>\n",
       "      <td>18-01</td>\n",
       "      <td>20 - 30</td>\n",
       "      <td>666.100000</td>\n",
       "    </tr>\n",
       "    <tr>\n",
       "      <th>3</th>\n",
       "      <td>453</td>\n",
       "      <td>2018-01-31 23:53:53.632</td>\n",
       "      <td>2018-02-01 00:01:26.805</td>\n",
       "      <td>3571</td>\n",
       "      <td>Subscriber</td>\n",
       "      <td>Male</td>\n",
       "      <td>31.0</td>\n",
       "      <td>2018-01-31</td>\n",
       "      <td>2018-02-01</td>\n",
       "      <td>2018-01</td>\n",
       "      <td>...</td>\n",
       "      <td>00-02</td>\n",
       "      <td>23</td>\n",
       "      <td>0</td>\n",
       "      <td>Wednesday</td>\n",
       "      <td>Thursday</td>\n",
       "      <td>Wed</td>\n",
       "      <td>Thu</td>\n",
       "      <td>18-01</td>\n",
       "      <td>30 - 40</td>\n",
       "      <td>7.550000</td>\n",
       "    </tr>\n",
       "    <tr>\n",
       "      <th>4</th>\n",
       "      <td>180</td>\n",
       "      <td>2018-01-31 23:52:09.903</td>\n",
       "      <td>2018-01-31 23:55:10.807</td>\n",
       "      <td>1403</td>\n",
       "      <td>Subscriber</td>\n",
       "      <td>Male</td>\n",
       "      <td>39.0</td>\n",
       "      <td>2018-01-31</td>\n",
       "      <td>2018-01-31</td>\n",
       "      <td>2018-01</td>\n",
       "      <td>...</td>\n",
       "      <td>23-01</td>\n",
       "      <td>23</td>\n",
       "      <td>23</td>\n",
       "      <td>Wednesday</td>\n",
       "      <td>Wednesday</td>\n",
       "      <td>Wed</td>\n",
       "      <td>Wed</td>\n",
       "      <td>18-01</td>\n",
       "      <td>30 - 40</td>\n",
       "      <td>3.000000</td>\n",
       "    </tr>\n",
       "  </tbody>\n",
       "</table>\n",
       "<p>5 rows × 26 columns</p>\n",
       "</div>"
      ],
      "text/plain": [
       "   duration_sec              start_time                end_time  bike_id  \\\n",
       "0         75284 2018-01-31 22:52:35.239 2018-02-01 19:47:19.824     2765   \n",
       "1         71576 2018-01-31 14:23:55.889 2018-02-01 10:16:52.116     3039   \n",
       "2         39966 2018-01-31 19:52:24.667 2018-02-01 06:58:31.053      617   \n",
       "3           453 2018-01-31 23:53:53.632 2018-02-01 00:01:26.805     3571   \n",
       "4           180 2018-01-31 23:52:09.903 2018-01-31 23:55:10.807     1403   \n",
       "\n",
       "    user_type member_gender  member_age start_time_date end_time_date  \\\n",
       "0  Subscriber          Male        33.0      2018-01-31    2018-02-01   \n",
       "1    Customer          Male        23.0      2018-01-31    2018-02-01   \n",
       "2  Subscriber          Male        28.0      2018-01-31    2018-02-01   \n",
       "3  Subscriber          Male        31.0      2018-01-31    2018-02-01   \n",
       "4  Subscriber          Male        39.0      2018-01-31    2018-01-31   \n",
       "\n",
       "  start_time_year_month     ...      end_time_hour_minute  start_time_hour  \\\n",
       "0               2018-01     ...                     19-02               22   \n",
       "1               2018-01     ...                     10-02               14   \n",
       "2               2018-01     ...                     06-02               19   \n",
       "3               2018-01     ...                     00-02               23   \n",
       "4               2018-01     ...                     23-01               23   \n",
       "\n",
       "   end_time_hour  start_time_weekday  end_time_weekday  \\\n",
       "0             19           Wednesday          Thursday   \n",
       "1             10           Wednesday          Thursday   \n",
       "2              6           Wednesday          Thursday   \n",
       "3              0           Wednesday          Thursday   \n",
       "4             23           Wednesday         Wednesday   \n",
       "\n",
       "  start_time_weekday_abbr end_time_weekday_abbr  \\\n",
       "0                     Wed                   Thu   \n",
       "1                     Wed                   Thu   \n",
       "2                     Wed                   Thu   \n",
       "3                     Wed                   Thu   \n",
       "4                     Wed                   Wed   \n",
       "\n",
       "   start_time_year_month_renamed  member_age_bins duration_min  \n",
       "0                          18-01          30 - 40  1254.733333  \n",
       "1                          18-01          20 - 30  1192.933333  \n",
       "2                          18-01          20 - 30   666.100000  \n",
       "3                          18-01          30 - 40     7.550000  \n",
       "4                          18-01          30 - 40     3.000000  \n",
       "\n",
       "[5 rows x 26 columns]"
      ]
     },
     "execution_count": 32,
     "metadata": {},
     "output_type": "execute_result"
    }
   ],
   "source": [
    "df.head()"
   ]
  },
  {
   "cell_type": "markdown",
   "metadata": {},
   "source": [
    "## Question: What is the trend of bike rides for different age groups, genders, weekdays, and hours of a day?"
   ]
  },
  {
   "cell_type": "markdown",
   "metadata": {},
   "source": [
    "### Distrubition of age groups"
   ]
  },
  {
   "cell_type": "code",
   "execution_count": 33,
   "metadata": {
    "scrolled": true
   },
   "outputs": [
    {
     "data": {
      "text/html": [
       "<div>\n",
       "<style scoped>\n",
       "    .dataframe tbody tr th:only-of-type {\n",
       "        vertical-align: middle;\n",
       "    }\n",
       "\n",
       "    .dataframe tbody tr th {\n",
       "        vertical-align: top;\n",
       "    }\n",
       "\n",
       "    .dataframe thead th {\n",
       "        text-align: right;\n",
       "    }\n",
       "</style>\n",
       "<table border=\"1\" class=\"dataframe\">\n",
       "  <thead>\n",
       "    <tr style=\"text-align: right;\">\n",
       "      <th></th>\n",
       "      <th>bike_id</th>\n",
       "    </tr>\n",
       "    <tr>\n",
       "      <th>member_age_bins</th>\n",
       "      <th></th>\n",
       "    </tr>\n",
       "  </thead>\n",
       "  <tbody>\n",
       "    <tr>\n",
       "      <th>10 - 20</th>\n",
       "      <td>26237</td>\n",
       "    </tr>\n",
       "    <tr>\n",
       "      <th>20 - 30</th>\n",
       "      <td>715915</td>\n",
       "    </tr>\n",
       "    <tr>\n",
       "      <th>30 - 40</th>\n",
       "      <td>799138</td>\n",
       "    </tr>\n",
       "    <tr>\n",
       "      <th>40 - 50</th>\n",
       "      <td>317861</td>\n",
       "    </tr>\n",
       "    <tr>\n",
       "      <th>50 - 60</th>\n",
       "      <td>165837</td>\n",
       "    </tr>\n",
       "  </tbody>\n",
       "</table>\n",
       "</div>"
      ],
      "text/plain": [
       "                 bike_id\n",
       "member_age_bins         \n",
       "10 - 20            26237\n",
       "20 - 30           715915\n",
       "30 - 40           799138\n",
       "40 - 50           317861\n",
       "50 - 60           165837"
      ]
     },
     "execution_count": 33,
     "metadata": {},
     "output_type": "execute_result"
    }
   ],
   "source": [
    "# Create a new data frame for bike rides of different age groups.\n",
    "trip_by_age_df = df.groupby('member_age_bins').agg({'bike_id': 'count'})\n",
    "trip_by_age_df"
   ]
  },
  {
   "cell_type": "code",
   "execution_count": 34,
   "metadata": {},
   "outputs": [
    {
     "data": {
      "text/html": [
       "<div>\n",
       "<style scoped>\n",
       "    .dataframe tbody tr th:only-of-type {\n",
       "        vertical-align: middle;\n",
       "    }\n",
       "\n",
       "    .dataframe tbody tr th {\n",
       "        vertical-align: top;\n",
       "    }\n",
       "\n",
       "    .dataframe thead th {\n",
       "        text-align: right;\n",
       "    }\n",
       "</style>\n",
       "<table border=\"1\" class=\"dataframe\">\n",
       "  <thead>\n",
       "    <tr style=\"text-align: right;\">\n",
       "      <th></th>\n",
       "      <th>bike_id</th>\n",
       "      <th>perc</th>\n",
       "    </tr>\n",
       "    <tr>\n",
       "      <th>member_age_bins</th>\n",
       "      <th></th>\n",
       "      <th></th>\n",
       "    </tr>\n",
       "  </thead>\n",
       "  <tbody>\n",
       "    <tr>\n",
       "      <th>10 - 20</th>\n",
       "      <td>26237</td>\n",
       "      <td>1.295662</td>\n",
       "    </tr>\n",
       "    <tr>\n",
       "      <th>20 - 30</th>\n",
       "      <td>715915</td>\n",
       "      <td>35.354037</td>\n",
       "    </tr>\n",
       "    <tr>\n",
       "      <th>30 - 40</th>\n",
       "      <td>799138</td>\n",
       "      <td>39.463839</td>\n",
       "    </tr>\n",
       "    <tr>\n",
       "      <th>40 - 50</th>\n",
       "      <td>317861</td>\n",
       "      <td>15.696933</td>\n",
       "    </tr>\n",
       "    <tr>\n",
       "      <th>50 - 60</th>\n",
       "      <td>165837</td>\n",
       "      <td>8.189530</td>\n",
       "    </tr>\n",
       "  </tbody>\n",
       "</table>\n",
       "</div>"
      ],
      "text/plain": [
       "                 bike_id       perc\n",
       "member_age_bins                    \n",
       "10 - 20            26237   1.295662\n",
       "20 - 30           715915  35.354037\n",
       "30 - 40           799138  39.463839\n",
       "40 - 50           317861  15.696933\n",
       "50 - 60           165837   8.189530"
      ]
     },
     "execution_count": 34,
     "metadata": {},
     "output_type": "execute_result"
    }
   ],
   "source": [
    "# Create a new column for calculating the percentage of bike rides of different age groups.\n",
    "trip_by_age_df['perc'] = (trip_by_age_df['bike_id'] / trip_by_age_df['bike_id'].sum())*100\n",
    "trip_by_age_df"
   ]
  },
  {
   "cell_type": "code",
   "execution_count": 35,
   "metadata": {
    "scrolled": true
   },
   "outputs": [
    {
     "data": {
      "image/png": "[encoded data removed]",
      "text/plain": [
       "<Figure size 720x360 with 1 Axes>"
      ]
     },
     "metadata": {
      "needs_background": "light"
     },
     "output_type": "display_data"
    }
   ],
   "source": [
    "# Create a bar chart of bike rides based on different age group.\n",
    "trip_by_age_df['perc'].plot(kind='bar', color='navy', figsize=(10,5))\n",
    "plt.title('Percentage of bike rides by age groups', fontsize=20, y=1.05)\n",
    "plt.xlabel('member age group', labelpad=15)\n",
    "plt.ylabel('perentage(%)', labelpad=15)\n",
    "plt.xticks(rotation=360);"
   ]
  },
  {
   "cell_type": "markdown",
   "metadata": {},
   "source": [
    "### Distribution of genders"
   ]
  },
  {
   "cell_type": "code",
   "execution_count": 36,
   "metadata": {},
   "outputs": [
    {
     "data": {
      "text/html": [
       "<div>\n",
       "<style scoped>\n",
       "    .dataframe tbody tr th:only-of-type {\n",
       "        vertical-align: middle;\n",
       "    }\n",
       "\n",
       "    .dataframe tbody tr th {\n",
       "        vertical-align: top;\n",
       "    }\n",
       "\n",
       "    .dataframe thead th {\n",
       "        text-align: right;\n",
       "    }\n",
       "</style>\n",
       "<table border=\"1\" class=\"dataframe\">\n",
       "  <thead>\n",
       "    <tr style=\"text-align: right;\">\n",
       "      <th></th>\n",
       "      <th>bike_id</th>\n",
       "    </tr>\n",
       "    <tr>\n",
       "      <th>member_gender</th>\n",
       "      <th></th>\n",
       "    </tr>\n",
       "  </thead>\n",
       "  <tbody>\n",
       "    <tr>\n",
       "      <th>Female</th>\n",
       "      <td>513992</td>\n",
       "    </tr>\n",
       "    <tr>\n",
       "      <th>Male</th>\n",
       "      <td>1510996</td>\n",
       "    </tr>\n",
       "  </tbody>\n",
       "</table>\n",
       "</div>"
      ],
      "text/plain": [
       "               bike_id\n",
       "member_gender         \n",
       "Female          513992\n",
       "Male           1510996"
      ]
     },
     "execution_count": 36,
     "metadata": {},
     "output_type": "execute_result"
    }
   ],
   "source": [
    "# Create a new data frame for bike rides of different genders.\n",
    "trip_by_gender_df = df.groupby('member_gender').agg({'bike_id':'count'})\n",
    "trip_by_gender_df"
   ]
  },
  {
   "cell_type": "code",
   "execution_count": 37,
   "metadata": {
    "scrolled": true
   },
   "outputs": [
    {
     "data": {
      "text/html": [
       "<div>\n",
       "<style scoped>\n",
       "    .dataframe tbody tr th:only-of-type {\n",
       "        vertical-align: middle;\n",
       "    }\n",
       "\n",
       "    .dataframe tbody tr th {\n",
       "        vertical-align: top;\n",
       "    }\n",
       "\n",
       "    .dataframe thead th {\n",
       "        text-align: right;\n",
       "    }\n",
       "</style>\n",
       "<table border=\"1\" class=\"dataframe\">\n",
       "  <thead>\n",
       "    <tr style=\"text-align: right;\">\n",
       "      <th></th>\n",
       "      <th>bike_id</th>\n",
       "      <th>perc</th>\n",
       "    </tr>\n",
       "    <tr>\n",
       "      <th>member_gender</th>\n",
       "      <th></th>\n",
       "      <th></th>\n",
       "    </tr>\n",
       "  </thead>\n",
       "  <tbody>\n",
       "    <tr>\n",
       "      <th>Female</th>\n",
       "      <td>513992</td>\n",
       "      <td>25.382471</td>\n",
       "    </tr>\n",
       "    <tr>\n",
       "      <th>Male</th>\n",
       "      <td>1510996</td>\n",
       "      <td>74.617529</td>\n",
       "    </tr>\n",
       "  </tbody>\n",
       "</table>\n",
       "</div>"
      ],
      "text/plain": [
       "               bike_id       perc\n",
       "member_gender                    \n",
       "Female          513992  25.382471\n",
       "Male           1510996  74.617529"
      ]
     },
     "execution_count": 37,
     "metadata": {},
     "output_type": "execute_result"
    }
   ],
   "source": [
    "# Create a new column for calculating the percentage of bike rides of different genders.\n",
    "trip_by_gender_df['perc'] = (trip_by_gender_df['bike_id'] / trip_by_gender_df['bike_id'].sum())*100\n",
    "trip_by_gender_df"
   ]
  },
  {
   "cell_type": "code",
   "execution_count": 38,
   "metadata": {
    "scrolled": true
   },
   "outputs": [
    {
     "data": {
      "image/png": "[encoded data removed]",
      "text/plain": [
       "<Figure size 720x360 with 1 Axes>"
      ]
     },
     "metadata": {
      "needs_background": "light"
     },
     "output_type": "display_data"
    }
   ],
   "source": [
    "# Create a barchart-h base on different genders\n",
    "barh_color = ['red', 'blue']\n",
    "trip_by_gender_df['perc'].plot(kind='barh', color=barh_color, figsize=(10,5))\n",
    "plt.title('Percentage of bike rides by genders', fontsize=20, y=1.05)\n",
    "plt.xlabel('percentage(%)', labelpad=15)\n",
    "plt.ylabel('gender', labelpad=15)\n",
    "plt.xticks(rotation=360)\n",
    "plt.xlim(0,100); # Show 100% as limit for a better overview."
   ]
  },
  {
   "cell_type": "markdown",
   "metadata": {},
   "source": [
    "### Distribution of weekdays"
   ]
  },
  {
   "cell_type": "code",
   "execution_count": 39,
   "metadata": {},
   "outputs": [
    {
     "data": {
      "text/html": [
       "<div>\n",
       "<style scoped>\n",
       "    .dataframe tbody tr th:only-of-type {\n",
       "        vertical-align: middle;\n",
       "    }\n",
       "\n",
       "    .dataframe tbody tr th {\n",
       "        vertical-align: top;\n",
       "    }\n",
       "\n",
       "    .dataframe thead th {\n",
       "        text-align: right;\n",
       "    }\n",
       "</style>\n",
       "<table border=\"1\" class=\"dataframe\">\n",
       "  <thead>\n",
       "    <tr style=\"text-align: right;\">\n",
       "      <th></th>\n",
       "      <th>bike_id</th>\n",
       "    </tr>\n",
       "    <tr>\n",
       "      <th>start_time_weekday_abbr</th>\n",
       "      <th></th>\n",
       "    </tr>\n",
       "  </thead>\n",
       "  <tbody>\n",
       "    <tr>\n",
       "      <th>Fri</th>\n",
       "      <td>316028</td>\n",
       "    </tr>\n",
       "    <tr>\n",
       "      <th>Mon</th>\n",
       "      <td>320447</td>\n",
       "    </tr>\n",
       "    <tr>\n",
       "      <th>Sat</th>\n",
       "      <td>176984</td>\n",
       "    </tr>\n",
       "    <tr>\n",
       "      <th>Sun</th>\n",
       "      <td>154877</td>\n",
       "    </tr>\n",
       "    <tr>\n",
       "      <th>Thu</th>\n",
       "      <td>355209</td>\n",
       "    </tr>\n",
       "    <tr>\n",
       "      <th>Tue</th>\n",
       "      <td>350991</td>\n",
       "    </tr>\n",
       "    <tr>\n",
       "      <th>Wed</th>\n",
       "      <td>350452</td>\n",
       "    </tr>\n",
       "  </tbody>\n",
       "</table>\n",
       "</div>"
      ],
      "text/plain": [
       "                         bike_id\n",
       "start_time_weekday_abbr         \n",
       "Fri                       316028\n",
       "Mon                       320447\n",
       "Sat                       176984\n",
       "Sun                       154877\n",
       "Thu                       355209\n",
       "Tue                       350991\n",
       "Wed                       350452"
      ]
     },
     "execution_count": 39,
     "metadata": {},
     "output_type": "execute_result"
    }
   ],
   "source": [
    "# Create a new data frame for bike rides of different weekdays.\n",
    "trip_by_weekday_df = df.groupby('start_time_weekday_abbr').agg({'bike_id':'count'})\n",
    "trip_by_weekday_df"
   ]
  },
  {
   "cell_type": "code",
   "execution_count": 40,
   "metadata": {},
   "outputs": [
    {
     "data": {
      "text/html": [
       "<div>\n",
       "<style scoped>\n",
       "    .dataframe tbody tr th:only-of-type {\n",
       "        vertical-align: middle;\n",
       "    }\n",
       "\n",
       "    .dataframe tbody tr th {\n",
       "        vertical-align: top;\n",
       "    }\n",
       "\n",
       "    .dataframe thead th {\n",
       "        text-align: right;\n",
       "    }\n",
       "</style>\n",
       "<table border=\"1\" class=\"dataframe\">\n",
       "  <thead>\n",
       "    <tr style=\"text-align: right;\">\n",
       "      <th></th>\n",
       "      <th>bike_id</th>\n",
       "      <th>perc</th>\n",
       "    </tr>\n",
       "    <tr>\n",
       "      <th>start_time_weekday_abbr</th>\n",
       "      <th></th>\n",
       "      <th></th>\n",
       "    </tr>\n",
       "  </thead>\n",
       "  <tbody>\n",
       "    <tr>\n",
       "      <th>Fri</th>\n",
       "      <td>316028</td>\n",
       "      <td>15.606413</td>\n",
       "    </tr>\n",
       "    <tr>\n",
       "      <th>Mon</th>\n",
       "      <td>320447</td>\n",
       "      <td>15.824637</td>\n",
       "    </tr>\n",
       "    <tr>\n",
       "      <th>Sat</th>\n",
       "      <td>176984</td>\n",
       "      <td>8.740002</td>\n",
       "    </tr>\n",
       "    <tr>\n",
       "      <th>Sun</th>\n",
       "      <td>154877</td>\n",
       "      <td>7.648292</td>\n",
       "    </tr>\n",
       "    <tr>\n",
       "      <th>Thu</th>\n",
       "      <td>355209</td>\n",
       "      <td>17.541289</td>\n",
       "    </tr>\n",
       "    <tr>\n",
       "      <th>Tue</th>\n",
       "      <td>350991</td>\n",
       "      <td>17.332992</td>\n",
       "    </tr>\n",
       "    <tr>\n",
       "      <th>Wed</th>\n",
       "      <td>350452</td>\n",
       "      <td>17.306374</td>\n",
       "    </tr>\n",
       "  </tbody>\n",
       "</table>\n",
       "</div>"
      ],
      "text/plain": [
       "                         bike_id       perc\n",
       "start_time_weekday_abbr                    \n",
       "Fri                       316028  15.606413\n",
       "Mon                       320447  15.824637\n",
       "Sat                       176984   8.740002\n",
       "Sun                       154877   7.648292\n",
       "Thu                       355209  17.541289\n",
       "Tue                       350991  17.332992\n",
       "Wed                       350452  17.306374"
      ]
     },
     "execution_count": 40,
     "metadata": {},
     "output_type": "execute_result"
    }
   ],
   "source": [
    "# Create a new column for calculating the percentage of bike rides of different weekdays.\n",
    "trip_by_weekday_df['perc'] = (trip_by_weekday_df['bike_id'] / trip_by_weekday_df['bike_id'].sum())*100\n",
    "trip_by_weekday_df"
   ]
  },
  {
   "cell_type": "code",
   "execution_count": 41,
   "metadata": {},
   "outputs": [],
   "source": [
    "# Create a correct index for weekday.\n",
    "weekday_index = ['Mon', 'Tue', 'Wed', 'Thu', 'Fri', 'Sat', 'Sun']"
   ]
  },
  {
   "cell_type": "code",
   "execution_count": 42,
   "metadata": {},
   "outputs": [
    {
     "data": {
      "image/png": "[encoded data removed]",
      "text/plain": [
       "<Figure size 720x360 with 1 Axes>"
      ]
     },
     "metadata": {
      "needs_background": "light"
     },
     "output_type": "display_data"
    }
   ],
   "source": [
    "# Create a barchart based on different weekday.\n",
    "weekday_color = ['green', 'green', 'green', 'green', 'green', 'red', 'red'] # Show the weekend as red color.\n",
    "trip_by_weekday_df.reindex(weekday_index)['perc'].plot(kind='bar', color=weekday_color, figsize=(10,5))\n",
    "plt.title('Percentage of bike rides by weekdays', fontsize=20, y=1.05)\n",
    "plt.xlabel('weekday', labelpad=15)\n",
    "plt.ylabel('percentage(%)', labelpad=15)\n",
    "plt.xticks(rotation=360);"
   ]
  },
  {
   "cell_type": "markdown",
   "metadata": {},
   "source": [
    "### Distribution of hours of a day"
   ]
  },
  {
   "cell_type": "code",
   "execution_count": 43,
   "metadata": {
    "scrolled": true
   },
   "outputs": [
    {
     "data": {
      "text/html": [
       "<div>\n",
       "<style scoped>\n",
       "    .dataframe tbody tr th:only-of-type {\n",
       "        vertical-align: middle;\n",
       "    }\n",
       "\n",
       "    .dataframe tbody tr th {\n",
       "        vertical-align: top;\n",
       "    }\n",
       "\n",
       "    .dataframe thead th {\n",
       "        text-align: right;\n",
       "    }\n",
       "</style>\n",
       "<table border=\"1\" class=\"dataframe\">\n",
       "  <thead>\n",
       "    <tr style=\"text-align: right;\">\n",
       "      <th></th>\n",
       "      <th>start_time_hour</th>\n",
       "      <th>bike_id</th>\n",
       "    </tr>\n",
       "  </thead>\n",
       "  <tbody>\n",
       "    <tr>\n",
       "      <th>0</th>\n",
       "      <td>0</td>\n",
       "      <td>11037</td>\n",
       "    </tr>\n",
       "    <tr>\n",
       "      <th>1</th>\n",
       "      <td>1</td>\n",
       "      <td>6339</td>\n",
       "    </tr>\n",
       "    <tr>\n",
       "      <th>2</th>\n",
       "      <td>2</td>\n",
       "      <td>3911</td>\n",
       "    </tr>\n",
       "    <tr>\n",
       "      <th>3</th>\n",
       "      <td>3</td>\n",
       "      <td>2245</td>\n",
       "    </tr>\n",
       "    <tr>\n",
       "      <th>4</th>\n",
       "      <td>4</td>\n",
       "      <td>2382</td>\n",
       "    </tr>\n",
       "  </tbody>\n",
       "</table>\n",
       "</div>"
      ],
      "text/plain": [
       "   start_time_hour  bike_id\n",
       "0                0    11037\n",
       "1                1     6339\n",
       "2                2     3911\n",
       "3                3     2245\n",
       "4                4     2382"
      ]
     },
     "execution_count": 43,
     "metadata": {},
     "output_type": "execute_result"
    }
   ],
   "source": [
    "trip_by_hour_df = df.groupby('start_time_hour').agg({'bike_id':'count'}).reset_index()\n",
    "trip_by_hour_df.head()"
   ]
  },
  {
   "cell_type": "code",
   "execution_count": 44,
   "metadata": {
    "scrolled": true
   },
   "outputs": [
    {
     "data": {
      "text/html": [
       "<div>\n",
       "<style scoped>\n",
       "    .dataframe tbody tr th:only-of-type {\n",
       "        vertical-align: middle;\n",
       "    }\n",
       "\n",
       "    .dataframe tbody tr th {\n",
       "        vertical-align: top;\n",
       "    }\n",
       "\n",
       "    .dataframe thead th {\n",
       "        text-align: right;\n",
       "    }\n",
       "</style>\n",
       "<table border=\"1\" class=\"dataframe\">\n",
       "  <thead>\n",
       "    <tr style=\"text-align: right;\">\n",
       "      <th></th>\n",
       "      <th>start_time_hour</th>\n",
       "      <th>bike_id</th>\n",
       "      <th>perc</th>\n",
       "    </tr>\n",
       "  </thead>\n",
       "  <tbody>\n",
       "    <tr>\n",
       "      <th>0</th>\n",
       "      <td>0</td>\n",
       "      <td>11037</td>\n",
       "      <td>0.545040</td>\n",
       "    </tr>\n",
       "    <tr>\n",
       "      <th>1</th>\n",
       "      <td>1</td>\n",
       "      <td>6339</td>\n",
       "      <td>0.313039</td>\n",
       "    </tr>\n",
       "    <tr>\n",
       "      <th>2</th>\n",
       "      <td>2</td>\n",
       "      <td>3911</td>\n",
       "      <td>0.193137</td>\n",
       "    </tr>\n",
       "    <tr>\n",
       "      <th>3</th>\n",
       "      <td>3</td>\n",
       "      <td>2245</td>\n",
       "      <td>0.110865</td>\n",
       "    </tr>\n",
       "    <tr>\n",
       "      <th>4</th>\n",
       "      <td>4</td>\n",
       "      <td>2382</td>\n",
       "      <td>0.117630</td>\n",
       "    </tr>\n",
       "  </tbody>\n",
       "</table>\n",
       "</div>"
      ],
      "text/plain": [
       "   start_time_hour  bike_id      perc\n",
       "0                0    11037  0.545040\n",
       "1                1     6339  0.313039\n",
       "2                2     3911  0.193137\n",
       "3                3     2245  0.110865\n",
       "4                4     2382  0.117630"
      ]
     },
     "execution_count": 44,
     "metadata": {},
     "output_type": "execute_result"
    }
   ],
   "source": [
    "trip_by_hour_df['perc'] = (trip_by_hour_df['bike_id'] / trip_by_hour_df['bike_id'].sum())*100\n",
    "trip_by_hour_df.head()"
   ]
  },
  {
   "cell_type": "code",
   "execution_count": 45,
   "metadata": {},
   "outputs": [
    {
     "data": {
      "image/png": "[encoded data removed]",
      "text/plain": [
       "<Figure size 720x360 with 1 Axes>"
      ]
     },
     "metadata": {
      "needs_background": "light"
     },
     "output_type": "display_data"
    }
   ],
   "source": [
    "# Create a pointchart based on different hour of a day.\n",
    "plt.figure(figsize=(10,5))\n",
    "sns.pointplot(data=trip_by_hour_df, x='start_time_hour', y='perc', scale=0.5, color='blue')\n",
    "plt.title('Percentage of bike rides by hour of the day', fontsize=20, y=1.05)\n",
    "plt.xlabel('hour of day', labelpad=15)\n",
    "plt.ylabel('percentage(%)', labelpad=15)\n",
    "plt.xticks(rotation=360);"
   ]
  },
  {
   "cell_type": "markdown",
   "metadata": {},
   "source": [
    "### Discuss the distribution(s) of your variable(s) of interest. Were there any unusual points? Did you need to perform any transformations?\n",
    "\n",
    "> Regarding ride counts, it is much higher during the weekday than during the weekend; 7-9 am and 5-7 pm are the peak hour; Male users are 3 times more than females users. Age 20-40 is the major user group.\n",
    "\n",
    "### Of the features you investigated, were there any unusual distributions? Did you perform any operations on the data to tidy, adjust, or change the form of the data? If so, why did you do this?\n",
    "\n",
    "> I only kept the major group of the data which includes the member age <= 60 because some of the member age in the original data don't make senese. In gender, I onl kept male or female for the purpose of reducing ambuguity. I transformed start_time and end_time into datetime format, and broke them into smaller units for convenience of drawing charts."
   ]
  },
  {
   "cell_type": "markdown",
   "metadata": {},
   "source": [
    "## Bivariate Exploration"
   ]
  },
  {
   "cell_type": "markdown",
   "metadata": {},
   "source": [
    "## Question: Are there any behavioral differences between subscriber and non-subscribers?"
   ]
  },
  {
   "cell_type": "code",
   "execution_count": 46,
   "metadata": {},
   "outputs": [
    {
     "data": {
      "text/html": [
       "<div>\n",
       "<style scoped>\n",
       "    .dataframe tbody tr th:only-of-type {\n",
       "        vertical-align: middle;\n",
       "    }\n",
       "\n",
       "    .dataframe tbody tr th {\n",
       "        vertical-align: top;\n",
       "    }\n",
       "\n",
       "    .dataframe thead th {\n",
       "        text-align: right;\n",
       "    }\n",
       "</style>\n",
       "<table border=\"1\" class=\"dataframe\">\n",
       "  <thead>\n",
       "    <tr style=\"text-align: right;\">\n",
       "      <th></th>\n",
       "      <th>user_type</th>\n",
       "      <th>count</th>\n",
       "      <th>perc</th>\n",
       "    </tr>\n",
       "  </thead>\n",
       "  <tbody>\n",
       "    <tr>\n",
       "      <th>0</th>\n",
       "      <td>Customer</td>\n",
       "      <td>228562</td>\n",
       "      <td>11.287079</td>\n",
       "    </tr>\n",
       "    <tr>\n",
       "      <th>1</th>\n",
       "      <td>Subscriber</td>\n",
       "      <td>1796426</td>\n",
       "      <td>88.712921</td>\n",
       "    </tr>\n",
       "  </tbody>\n",
       "</table>\n",
       "</div>"
      ],
      "text/plain": [
       "    user_type    count       perc\n",
       "0    Customer   228562  11.287079\n",
       "1  Subscriber  1796426  88.712921"
      ]
     },
     "execution_count": 46,
     "metadata": {},
     "output_type": "execute_result"
    }
   ],
   "source": [
    "# Create a dataframe for calculating the bike-ride counts of user_type.\n",
    "count_of_user_type = df.groupby('user_type').size().reset_index(name='count')\n",
    "count_of_user_type['perc'] = count_of_user_type['count'] / len(df) *100 # Counting percentage of each user type\n",
    "count_of_user_type"
   ]
  },
  {
   "cell_type": "code",
   "execution_count": 47,
   "metadata": {
    "scrolled": false
   },
   "outputs": [],
   "source": [
    "# Create a data frame for calculating the counts per user type and year_month.\n",
    "count_of_user_type_per_year = df.groupby(['start_time_year_month_renamed', 'user_type']).size().reset_index()"
   ]
  },
  {
   "cell_type": "code",
   "execution_count": 48,
   "metadata": {},
   "outputs": [
    {
     "data": {
      "image/png": "[encoded data removed]",
      "text/plain": [
       "<Figure size 720x360 with 1 Axes>"
      ]
     },
     "metadata": {
      "needs_background": "light"
     },
     "output_type": "display_data"
    }
   ],
   "source": [
    "# Create a pointchart for showing the trend of bike-ride counts for different user type.\n",
    "plt.figure(figsize=(10,5))\n",
    "palette = {'Subscriber': 'red', 'Customer': 'green'}\n",
    "ax = sns.pointplot(data=count_of_user_type_per_year, x='start_time_year_month_renamed', y=0, hue='user_type', palette=palette, scale=0.5)\n",
    "plt.title('The monthly trend of bike rides per user type', fontsize=20, y=1.05)\n",
    "plt.xlabel('year-month', labelpad=15)\n",
    "plt.ylabel('counts', labelpad=15)\n",
    "legend = ax.legend()\n",
    "legend.set_title('User Type');"
   ]
  },
  {
   "cell_type": "markdown",
   "metadata": {},
   "source": [
    "### Average trip duration of subscribers & customers"
   ]
  },
  {
   "cell_type": "code",
   "execution_count": 49,
   "metadata": {
    "scrolled": true
   },
   "outputs": [
    {
     "data": {
      "image/png": "[encoded data removed]",
      "text/plain": [
       "<Figure size 720x360 with 1 Axes>"
      ]
     },
     "metadata": {
      "needs_background": "light"
     },
     "output_type": "display_data"
    }
   ],
   "source": [
    "barh_color = ['navy', 'blue']\n",
    "df.groupby('user_type')['duration_min'].mean().plot(kind='barh', color=barh_color, figsize=(10,5))\n",
    "plt.title('Average trip duration per user type', fontsize=20, y=1.05)\n",
    "plt.xlabel('trip duration (minute)', labelpad=15)\n",
    "plt.ylabel('user type', labelpad=15)\n",
    "plt.xticks(rotation=360);"
   ]
  },
  {
   "cell_type": "code",
   "execution_count": 50,
   "metadata": {
    "scrolled": false
   },
   "outputs": [
    {
     "data": {
      "text/html": [
       "<div>\n",
       "<style scoped>\n",
       "    .dataframe tbody tr th:only-of-type {\n",
       "        vertical-align: middle;\n",
       "    }\n",
       "\n",
       "    .dataframe tbody tr th {\n",
       "        vertical-align: top;\n",
       "    }\n",
       "\n",
       "    .dataframe thead th {\n",
       "        text-align: right;\n",
       "    }\n",
       "</style>\n",
       "<table border=\"1\" class=\"dataframe\">\n",
       "  <thead>\n",
       "    <tr style=\"text-align: right;\">\n",
       "      <th></th>\n",
       "      <th>duration_min</th>\n",
       "    </tr>\n",
       "  </thead>\n",
       "  <tbody>\n",
       "    <tr>\n",
       "      <th>count</th>\n",
       "      <td>2.024988e+06</td>\n",
       "    </tr>\n",
       "    <tr>\n",
       "      <th>mean</th>\n",
       "      <td>1.272914e+01</td>\n",
       "    </tr>\n",
       "    <tr>\n",
       "      <th>std</th>\n",
       "      <td>3.187541e+01</td>\n",
       "    </tr>\n",
       "    <tr>\n",
       "      <th>min</th>\n",
       "      <td>1.016667e+00</td>\n",
       "    </tr>\n",
       "    <tr>\n",
       "      <th>25%</th>\n",
       "      <td>5.683333e+00</td>\n",
       "    </tr>\n",
       "    <tr>\n",
       "      <th>50%</th>\n",
       "      <td>8.950000e+00</td>\n",
       "    </tr>\n",
       "    <tr>\n",
       "      <th>75%</th>\n",
       "      <td>1.385000e+01</td>\n",
       "    </tr>\n",
       "    <tr>\n",
       "      <th>max</th>\n",
       "      <td>1.438017e+03</td>\n",
       "    </tr>\n",
       "  </tbody>\n",
       "</table>\n",
       "</div>"
      ],
      "text/plain": [
       "       duration_min\n",
       "count  2.024988e+06\n",
       "mean   1.272914e+01\n",
       "std    3.187541e+01\n",
       "min    1.016667e+00\n",
       "25%    5.683333e+00\n",
       "50%    8.950000e+00\n",
       "75%    1.385000e+01\n",
       "max    1.438017e+03"
      ]
     },
     "execution_count": 50,
     "metadata": {},
     "output_type": "execute_result"
    }
   ],
   "source": [
    "# Create a data frame for viewing only user_type and duration.\n",
    "user_type_duration_df = df.loc[:,['user_type', 'duration_min']]\n",
    "user_type_duration_df.describe()"
   ]
  },
  {
   "cell_type": "code",
   "execution_count": 51,
   "metadata": {},
   "outputs": [
    {
     "data": {
      "image/png": "[encoded data removed]",
      "text/plain": [
       "<Figure size 432x288 with 1 Axes>"
      ]
     },
     "metadata": {
      "needs_background": "light"
     },
     "output_type": "display_data"
    }
   ],
   "source": [
    "# Create a violin plot for the major group to have a better view of the distribution.\n",
    "user_type_duration_df_60 = user_type_duration_df[user_type_duration_df['duration_min'] <= 60]\n",
    "sns.violinplot(data=user_type_duration_df_60, x='user_type', y='duration_min');"
   ]
  },
  {
   "cell_type": "markdown",
   "metadata": {},
   "source": [
    "### The trend of subscribers' & customers' rides per age group"
   ]
  },
  {
   "cell_type": "code",
   "execution_count": 52,
   "metadata": {},
   "outputs": [],
   "source": [
    "# Create a data frame for calculating bike-ride counts of subscribers per age group over year-month.\n",
    "subscriber_df = df[df['user_type'] == 'Subscriber'].groupby(['start_time_year_month_renamed', 'member_age_bins']).agg({'bike_id':'count'}).reset_index()"
   ]
  },
  {
   "cell_type": "code",
   "execution_count": 53,
   "metadata": {
    "scrolled": true
   },
   "outputs": [
    {
     "data": {
      "image/png": "[encoded data removed]",
      "text/plain": [
       "<Figure size 720x360 with 1 Axes>"
      ]
     },
     "metadata": {
      "needs_background": "light"
     },
     "output_type": "display_data"
    }
   ],
   "source": [
    "# Generate a pointplot for viewing the trend of bike rides for subscribers.\n",
    "plt.figure(figsize=(10,5))\n",
    "ax = sns.pointplot(data=subscriber_df, x='start_time_year_month_renamed', y='bike_id', scale=0.5, hue='member_age_bins')\n",
    "plt.title(\"The monthly trend of rides per subscribers' age group\", fontsize=20, y=1.05)\n",
    "plt.xlabel('year-month', labelpad=15)\n",
    "plt.ylabel('bike ride counts', labelpad=15)\n",
    "plt.xticks(rotation=360)\n",
    "legend = ax.legend()\n",
    "legend.set_title('Member Age Group');"
   ]
  },
  {
   "cell_type": "code",
   "execution_count": 54,
   "metadata": {},
   "outputs": [
    {
     "data": {
      "text/plain": [
       "Subscriber    1796426\n",
       "Customer       228562\n",
       "Name: user_type, dtype: int64"
      ]
     },
     "execution_count": 54,
     "metadata": {},
     "output_type": "execute_result"
    }
   ],
   "source": [
    "df['user_type'].value_counts()"
   ]
  },
  {
   "cell_type": "code",
   "execution_count": 55,
   "metadata": {},
   "outputs": [
    {
     "data": {
      "text/html": [
       "<div>\n",
       "<style scoped>\n",
       "    .dataframe tbody tr th:only-of-type {\n",
       "        vertical-align: middle;\n",
       "    }\n",
       "\n",
       "    .dataframe tbody tr th {\n",
       "        vertical-align: top;\n",
       "    }\n",
       "\n",
       "    .dataframe thead th {\n",
       "        text-align: right;\n",
       "    }\n",
       "</style>\n",
       "<table border=\"1\" class=\"dataframe\">\n",
       "  <thead>\n",
       "    <tr style=\"text-align: right;\">\n",
       "      <th></th>\n",
       "      <th>start_time_year_month_renamed</th>\n",
       "      <th>member_age_bins</th>\n",
       "      <th>bike_id</th>\n",
       "    </tr>\n",
       "  </thead>\n",
       "  <tbody>\n",
       "    <tr>\n",
       "      <th>0</th>\n",
       "      <td>18-01</td>\n",
       "      <td>10 - 20</td>\n",
       "      <td>102</td>\n",
       "    </tr>\n",
       "    <tr>\n",
       "      <th>1</th>\n",
       "      <td>18-01</td>\n",
       "      <td>20 - 30</td>\n",
       "      <td>2180</td>\n",
       "    </tr>\n",
       "    <tr>\n",
       "      <th>2</th>\n",
       "      <td>18-01</td>\n",
       "      <td>30 - 40</td>\n",
       "      <td>2612</td>\n",
       "    </tr>\n",
       "    <tr>\n",
       "      <th>3</th>\n",
       "      <td>18-01</td>\n",
       "      <td>40 - 50</td>\n",
       "      <td>783</td>\n",
       "    </tr>\n",
       "    <tr>\n",
       "      <th>4</th>\n",
       "      <td>18-01</td>\n",
       "      <td>50 - 60</td>\n",
       "      <td>388</td>\n",
       "    </tr>\n",
       "  </tbody>\n",
       "</table>\n",
       "</div>"
      ],
      "text/plain": [
       "  start_time_year_month_renamed member_age_bins  bike_id\n",
       "0                         18-01         10 - 20      102\n",
       "1                         18-01         20 - 30     2180\n",
       "2                         18-01         30 - 40     2612\n",
       "3                         18-01         40 - 50      783\n",
       "4                         18-01         50 - 60      388"
      ]
     },
     "execution_count": 55,
     "metadata": {},
     "output_type": "execute_result"
    }
   ],
   "source": [
    "# Create a data frame for calculating bike-ride counts of customers per age group over year-month.\n",
    "customer_df = df[df['user_type'] == 'Customer'].groupby(['start_time_year_month_renamed', 'member_age_bins']).agg({'bike_id':'count'}).reset_index()\n",
    "customer_df.head()"
   ]
  },
  {
   "cell_type": "code",
   "execution_count": 56,
   "metadata": {
    "scrolled": true
   },
   "outputs": [
    {
     "data": {
      "image/png": "[encoded data removed]",
      "text/plain": [
       "<Figure size 720x360 with 1 Axes>"
      ]
     },
     "metadata": {
      "needs_background": "light"
     },
     "output_type": "display_data"
    }
   ],
   "source": [
    "# Generate a pointplot for viewing the trend of bike rides for customers.\n",
    "plt.figure(figsize=(10,5))\n",
    "ax = sns.pointplot(data=customer_df, x='start_time_year_month_renamed', y='bike_id', scale=0.5, hue='member_age_bins')\n",
    "plt.title(\"The monthly trend of rides per customers' age group\", fontsize=20, y=1.05)\n",
    "plt.xlabel('year-month', labelpad=15)\n",
    "plt.ylabel('bike ride counts', labelpad=15)\n",
    "plt.xticks(rotation=360)\n",
    "legend = ax.legend()\n",
    "legend.set_title('Member Age Group');"
   ]
  },
  {
   "cell_type": "markdown",
   "metadata": {},
   "source": [
    "### Talk about some of the relationships you observed in this part of the investigation. How did the feature(s) of interest vary with other features in the dataset?\n",
    "\n",
    "> There are about 89% of subscribers and and 11 % customers. Subscribers tend to ride more often but the duration of each ride is shorter. I guess this is because the pricing plan for single ride, access pass, and monthly membership changes the user behaviors.  https://www.fordgobike.com/pricing\n",
    "\n",
    "### Did you observe any interesting relationships between the other features (not the main feature(s) of interest)?\n",
    "\n",
    "> The overall trend of bike-ride counts  was moving upward from 18-01 to 19-02. There was a spike during 18-03 and 18-07 espeially for the major groups (age 20-40)."
   ]
  },
  {
   "cell_type": "markdown",
   "metadata": {},
   "source": [
    "## Multivariate Exploration\n",
    "\n",
    "> I will investigate more about the subscribers by analyzing the relationships among different age groups, weekday, and hour of a day."
   ]
  },
  {
   "cell_type": "code",
   "execution_count": 57,
   "metadata": {},
   "outputs": [
    {
     "name": "stdout",
     "output_type": "stream",
     "text": [
      "<class 'pandas.core.frame.DataFrame'>\n",
      "RangeIndex: 126 entries, 0 to 125\n",
      "Data columns (total 3 columns):\n",
      "start_time_weekday_abbr    126 non-null object\n",
      "start_time_hour            126 non-null int64\n",
      "count                      126 non-null int64\n",
      "dtypes: int64(2), object(1)\n",
      "memory usage: 3.0+ KB\n"
     ]
    }
   ],
   "source": [
    "# Creating new data frames for different age groups of subscribers.\n",
    "subscriber_df_1 = df[(df['member_age'] >= 20) & (df['member_age'] < 30) & (df['user_type'] =='Subscriber') & (df['start_time_hour'] > 5)].groupby(['start_time_weekday_abbr', 'start_time_hour']).agg({'bike_id':'count'}).rename(columns={'bike_id':'count'}).reset_index()\n",
    "subscriber_df_2 = df[(df['member_age'] >= 30) & (df['member_age'] < 40) & (df['user_type'] =='Subscriber') & (df['start_time_hour'] > 5)].groupby(['start_time_weekday_abbr', 'start_time_hour']).agg({'bike_id':'count'}).rename(columns={'bike_id':'count'}).reset_index()\n",
    "subscriber_df_3 = df[(df['member_age'] >= 40) & (df['member_age'] < 50) & (df['user_type'] =='Subscriber') & (df['start_time_hour'] > 5)].groupby(['start_time_weekday_abbr', 'start_time_hour']).agg({'bike_id':'count'}).rename(columns={'bike_id':'count'}).reset_index()\n",
    "subscriber_df_4 = df[(df['member_age'] >= 50) & (df['member_age'] <= 60) & (df['user_type'] =='Subscriber') & (df['start_time_hour'] > 5)].groupby(['start_time_weekday_abbr', 'start_time_hour']).agg({'bike_id':'count'}).rename(columns={'bike_id':'count'}).reset_index()\n",
    "subscriber_df_1.info()"
   ]
  },
  {
   "cell_type": "code",
   "execution_count": 58,
   "metadata": {},
   "outputs": [
    {
     "name": "stdout",
     "output_type": "stream",
     "text": [
      "<class 'pandas.core.frame.DataFrame'>\n",
      "RangeIndex: 126 entries, 0 to 125\n",
      "Data columns (total 3 columns):\n",
      "start_time_weekday_abbr    126 non-null category\n",
      "start_time_hour            126 non-null int64\n",
      "count                      126 non-null int64\n",
      "dtypes: category(1), int64(2)\n",
      "memory usage: 2.5 KB\n"
     ]
    }
   ],
   "source": [
    "# Change weekday abbr to categorical.\n",
    "subscriber_df_1['start_time_weekday_abbr'] = pd.Categorical(subscriber_df_1['start_time_weekday_abbr'], categories=['Mon', 'Tue', 'Wed', 'Thu', 'Fri', 'Sat', 'Sun'], ordered=True)\n",
    "subscriber_df_2['start_time_weekday_abbr'] = pd.Categorical(subscriber_df_2['start_time_weekday_abbr'], categories=['Mon', 'Tue', 'Wed', 'Thu', 'Fri', 'Sat', 'Sun'], ordered=True)\n",
    "subscriber_df_3['start_time_weekday_abbr'] = pd.Categorical(subscriber_df_3['start_time_weekday_abbr'], categories=['Mon', 'Tue', 'Wed', 'Thu', 'Fri', 'Sat', 'Sun'], ordered=True)\n",
    "subscriber_df_4['start_time_weekday_abbr'] = pd.Categorical(subscriber_df_4['start_time_weekday_abbr'], categories=['Mon', 'Tue', 'Wed', 'Thu', 'Fri', 'Sat', 'Sun'], ordered=True)\n",
    "subscriber_df_1.info()"
   ]
  },
  {
   "cell_type": "code",
   "execution_count": 59,
   "metadata": {},
   "outputs": [
    {
     "name": "stdout",
     "output_type": "stream",
     "text": [
      "<class 'pandas.core.frame.DataFrame'>\n",
      "RangeIndex: 126 entries, 0 to 125\n",
      "Data columns (total 4 columns):\n",
      "start_time_weekday_abbr    126 non-null category\n",
      "start_time_hour            126 non-null int64\n",
      "count                      126 non-null int64\n",
      "count_perc                 126 non-null float64\n",
      "dtypes: category(1), float64(1), int64(2)\n",
      "memory usage: 3.5 KB\n"
     ]
    }
   ],
   "source": [
    "# Create a column for calculating the count percentage.\n",
    "subscriber_df_1['count_perc'] = subscriber_df_1['count'].apply(lambda x: (x/subscriber_df_1['count'].sum())*100)\n",
    "subscriber_df_2['count_perc'] = subscriber_df_2['count'].apply(lambda x: (x/subscriber_df_2['count'].sum())*100)\n",
    "subscriber_df_3['count_perc'] = subscriber_df_3['count'].apply(lambda x: (x/subscriber_df_3['count'].sum())*100)\n",
    "subscriber_df_4['count_perc'] = subscriber_df_4['count'].apply(lambda x: (x/subscriber_df_4['count'].sum())*100)\n",
    "subscriber_df_1.info()"
   ]
  },
  {
   "cell_type": "code",
   "execution_count": 60,
   "metadata": {},
   "outputs": [
    {
     "name": "stdout",
     "output_type": "stream",
     "text": [
      "<class 'pandas.core.frame.DataFrame'>\n",
      "RangeIndex: 126 entries, 0 to 125\n",
      "Data columns (total 5 columns):\n",
      "start_time_weekday_abbr    126 non-null category\n",
      "start_time_hour            126 non-null int64\n",
      "count                      126 non-null int64\n",
      "count_perc                 126 non-null float64\n",
      "rank                       126 non-null int32\n",
      "dtypes: category(1), float64(1), int32(1), int64(2)\n",
      "memory usage: 4.0 KB\n"
     ]
    }
   ],
   "source": [
    "# Create a rank column based on the count_perc and make the data type as int.\n",
    "subscriber_df_1['rank'] = subscriber_df_1['count_perc'].rank(ascending=False).astype(int)\n",
    "subscriber_df_2['rank'] = subscriber_df_2['count_perc'].rank(ascending=False).astype(int)\n",
    "subscriber_df_3['rank'] = subscriber_df_3['count_perc'].rank(ascending=False).astype(int)\n",
    "subscriber_df_4['rank'] = subscriber_df_4['count_perc'].rank(ascending=False).astype(int)\n",
    "subscriber_df_1.info()"
   ]
  },
  {
   "cell_type": "code",
   "execution_count": 61,
   "metadata": {},
   "outputs": [
    {
     "data": {
      "text/html": [
       "<div>\n",
       "<style scoped>\n",
       "    .dataframe tbody tr th:only-of-type {\n",
       "        vertical-align: middle;\n",
       "    }\n",
       "\n",
       "    .dataframe tbody tr th {\n",
       "        vertical-align: top;\n",
       "    }\n",
       "\n",
       "    .dataframe thead th {\n",
       "        text-align: right;\n",
       "    }\n",
       "</style>\n",
       "<table border=\"1\" class=\"dataframe\">\n",
       "  <thead>\n",
       "    <tr style=\"text-align: right;\">\n",
       "      <th>start_time_weekday_abbr</th>\n",
       "      <th>Mon</th>\n",
       "      <th>Tue</th>\n",
       "      <th>Wed</th>\n",
       "      <th>Thu</th>\n",
       "      <th>Fri</th>\n",
       "      <th>Sat</th>\n",
       "      <th>Sun</th>\n",
       "    </tr>\n",
       "    <tr>\n",
       "      <th>start_time_hour</th>\n",
       "      <th></th>\n",
       "      <th></th>\n",
       "      <th></th>\n",
       "      <th></th>\n",
       "      <th></th>\n",
       "      <th></th>\n",
       "      <th></th>\n",
       "    </tr>\n",
       "  </thead>\n",
       "  <tbody>\n",
       "    <tr>\n",
       "      <th>6</th>\n",
       "      <td>110</td>\n",
       "      <td>101</td>\n",
       "      <td>104</td>\n",
       "      <td>107</td>\n",
       "      <td>113</td>\n",
       "      <td>125</td>\n",
       "      <td>126</td>\n",
       "    </tr>\n",
       "    <tr>\n",
       "      <th>7</th>\n",
       "      <td>30</td>\n",
       "      <td>25</td>\n",
       "      <td>26</td>\n",
       "      <td>27</td>\n",
       "      <td>37</td>\n",
       "      <td>123</td>\n",
       "      <td>124</td>\n",
       "    </tr>\n",
       "    <tr>\n",
       "      <th>8</th>\n",
       "      <td>7</td>\n",
       "      <td>1</td>\n",
       "      <td>2</td>\n",
       "      <td>3</td>\n",
       "      <td>8</td>\n",
       "      <td>112</td>\n",
       "      <td>120</td>\n",
       "    </tr>\n",
       "    <tr>\n",
       "      <th>9</th>\n",
       "      <td>19</td>\n",
       "      <td>15</td>\n",
       "      <td>17</td>\n",
       "      <td>16</td>\n",
       "      <td>18</td>\n",
       "      <td>98</td>\n",
       "      <td>109</td>\n",
       "    </tr>\n",
       "    <tr>\n",
       "      <th>10</th>\n",
       "      <td>60</td>\n",
       "      <td>51</td>\n",
       "      <td>43</td>\n",
       "      <td>41</td>\n",
       "      <td>47</td>\n",
       "      <td>90</td>\n",
       "      <td>94</td>\n",
       "    </tr>\n",
       "    <tr>\n",
       "      <th>11</th>\n",
       "      <td>89</td>\n",
       "      <td>82</td>\n",
       "      <td>81</td>\n",
       "      <td>76</td>\n",
       "      <td>73</td>\n",
       "      <td>55</td>\n",
       "      <td>70</td>\n",
       "    </tr>\n",
       "    <tr>\n",
       "      <th>12</th>\n",
       "      <td>71</td>\n",
       "      <td>74</td>\n",
       "      <td>65</td>\n",
       "      <td>61</td>\n",
       "      <td>62</td>\n",
       "      <td>45</td>\n",
       "      <td>59</td>\n",
       "    </tr>\n",
       "    <tr>\n",
       "      <th>13</th>\n",
       "      <td>83</td>\n",
       "      <td>86</td>\n",
       "      <td>69</td>\n",
       "      <td>77</td>\n",
       "      <td>67</td>\n",
       "      <td>40</td>\n",
       "      <td>46</td>\n",
       "    </tr>\n",
       "    <tr>\n",
       "      <th>14</th>\n",
       "      <td>93</td>\n",
       "      <td>92</td>\n",
       "      <td>91</td>\n",
       "      <td>85</td>\n",
       "      <td>84</td>\n",
       "      <td>42</td>\n",
       "      <td>44</td>\n",
       "    </tr>\n",
       "    <tr>\n",
       "      <th>15</th>\n",
       "      <td>87</td>\n",
       "      <td>75</td>\n",
       "      <td>72</td>\n",
       "      <td>66</td>\n",
       "      <td>57</td>\n",
       "      <td>48</td>\n",
       "      <td>52</td>\n",
       "    </tr>\n",
       "    <tr>\n",
       "      <th>16</th>\n",
       "      <td>34</td>\n",
       "      <td>32</td>\n",
       "      <td>31</td>\n",
       "      <td>29</td>\n",
       "      <td>28</td>\n",
       "      <td>50</td>\n",
       "      <td>54</td>\n",
       "    </tr>\n",
       "    <tr>\n",
       "      <th>17</th>\n",
       "      <td>10</td>\n",
       "      <td>4</td>\n",
       "      <td>6</td>\n",
       "      <td>5</td>\n",
       "      <td>13</td>\n",
       "      <td>49</td>\n",
       "      <td>53</td>\n",
       "    </tr>\n",
       "    <tr>\n",
       "      <th>18</th>\n",
       "      <td>14</td>\n",
       "      <td>9</td>\n",
       "      <td>11</td>\n",
       "      <td>12</td>\n",
       "      <td>20</td>\n",
       "      <td>58</td>\n",
       "      <td>56</td>\n",
       "    </tr>\n",
       "    <tr>\n",
       "      <th>19</th>\n",
       "      <td>23</td>\n",
       "      <td>21</td>\n",
       "      <td>22</td>\n",
       "      <td>24</td>\n",
       "      <td>36</td>\n",
       "      <td>88</td>\n",
       "      <td>80</td>\n",
       "    </tr>\n",
       "    <tr>\n",
       "      <th>20</th>\n",
       "      <td>39</td>\n",
       "      <td>33</td>\n",
       "      <td>38</td>\n",
       "      <td>35</td>\n",
       "      <td>78</td>\n",
       "      <td>96</td>\n",
       "      <td>97</td>\n",
       "    </tr>\n",
       "    <tr>\n",
       "      <th>21</th>\n",
       "      <td>79</td>\n",
       "      <td>68</td>\n",
       "      <td>64</td>\n",
       "      <td>63</td>\n",
       "      <td>95</td>\n",
       "      <td>100</td>\n",
       "      <td>106</td>\n",
       "    </tr>\n",
       "    <tr>\n",
       "      <th>22</th>\n",
       "      <td>108</td>\n",
       "      <td>102</td>\n",
       "      <td>103</td>\n",
       "      <td>99</td>\n",
       "      <td>105</td>\n",
       "      <td>111</td>\n",
       "      <td>115</td>\n",
       "    </tr>\n",
       "    <tr>\n",
       "      <th>23</th>\n",
       "      <td>121</td>\n",
       "      <td>119</td>\n",
       "      <td>118</td>\n",
       "      <td>116</td>\n",
       "      <td>114</td>\n",
       "      <td>117</td>\n",
       "      <td>122</td>\n",
       "    </tr>\n",
       "  </tbody>\n",
       "</table>\n",
       "</div>"
      ],
      "text/plain": [
       "start_time_weekday_abbr  Mon  Tue  Wed  Thu  Fri  Sat  Sun\n",
       "start_time_hour                                           \n",
       "6                        110  101  104  107  113  125  126\n",
       "7                         30   25   26   27   37  123  124\n",
       "8                          7    1    2    3    8  112  120\n",
       "9                         19   15   17   16   18   98  109\n",
       "10                        60   51   43   41   47   90   94\n",
       "11                        89   82   81   76   73   55   70\n",
       "12                        71   74   65   61   62   45   59\n",
       "13                        83   86   69   77   67   40   46\n",
       "14                        93   92   91   85   84   42   44\n",
       "15                        87   75   72   66   57   48   52\n",
       "16                        34   32   31   29   28   50   54\n",
       "17                        10    4    6    5   13   49   53\n",
       "18                        14    9   11   12   20   58   56\n",
       "19                        23   21   22   24   36   88   80\n",
       "20                        39   33   38   35   78   96   97\n",
       "21                        79   68   64   63   95  100  106\n",
       "22                       108  102  103   99  105  111  115\n",
       "23                       121  119  118  116  114  117  122"
      ]
     },
     "execution_count": 61,
     "metadata": {},
     "output_type": "execute_result"
    }
   ],
   "source": [
    "# Create a pivot table for the heatmap based on start_time_hour, weekday, and rank.\n",
    "subscriber_df_1_pivot = subscriber_df_1.pivot_table(index='start_time_hour', columns='start_time_weekday_abbr', values='rank')\n",
    "subscriber_df_2_pivot = subscriber_df_2.pivot_table(index='start_time_hour', columns='start_time_weekday_abbr', values='rank')\n",
    "subscriber_df_3_pivot = subscriber_df_3.pivot_table(index='start_time_hour', columns='start_time_weekday_abbr', values='rank')\n",
    "subscriber_df_4_pivot = subscriber_df_4.pivot_table(index='start_time_hour', columns='start_time_weekday_abbr', values='rank')\n",
    "subscriber_df_1_pivot"
   ]
  },
  {
   "cell_type": "code",
   "execution_count": 62,
   "metadata": {},
   "outputs": [
    {
     "data": {
      "image/png": "[encoded data removed]",
      "text/plain": [
       "<Figure size 1080x1080 with 8 Axes>"
      ]
     },
     "metadata": {
      "needs_background": "light"
     },
     "output_type": "display_data"
    }
   ],
   "source": [
    "# Create for heatmaps for four different age groups based on rank, weekday, and hour of a day. Higher the rank, brighter the color, means users rode more often in the time zone.\n",
    "plt.figure(figsize=(15,15))\n",
    "plt.subplot(221)\n",
    "plt.suptitle('Age group, weekdays, hour of a day effects on bike rides', fontsize=20, y=0.93)\n",
    "sns.heatmap(subscriber_df_1_pivot, fmt='d', annot=True, cmap='YlOrBr', annot_kws={'size': 10})\n",
    "plt.title('20-30 years old subscribers')\n",
    "plt.xlabel('Weekday', labelpad=10)\n",
    "plt.ylabel('Hour of a day', labelpad=10)\n",
    "plt.yticks(rotation=360)\n",
    "\n",
    "plt.subplot(222)\n",
    "sns.heatmap(subscriber_df_2_pivot, fmt='d', annot=True, cmap='YlOrBr', annot_kws={'size': 10})\n",
    "plt.title('30-40 years old subscribers')\n",
    "plt.xlabel('Weekday', labelpad=10)\n",
    "plt.ylabel('Hour of a day', labelpad=10)\n",
    "plt.yticks(rotation=360)\n",
    "\n",
    "plt.subplot(223)\n",
    "sns.heatmap(subscriber_df_3_pivot, fmt='d', annot=True, cmap='YlOrBr', annot_kws={'size': 10})\n",
    "plt.title('40-50 years old subscribers')\n",
    "plt.xlabel('Weekday', labelpad=10)\n",
    "plt.ylabel('Hour of a day', labelpad=10)\n",
    "plt.yticks(rotation=360)\n",
    "\n",
    "plt.subplot(224)\n",
    "sns.heatmap(subscriber_df_4_pivot, fmt='d', annot=True, cmap='YlOrBr', annot_kws={'size': 10})\n",
    "plt.title('50-60 years old subscribers')\n",
    "plt.xlabel('Weekday', labelpad=10)\n",
    "plt.ylabel('Hour of a day', labelpad=10)\n",
    "plt.yticks(rotation=360);"
   ]
  },
  {
   "cell_type": "markdown",
   "metadata": {},
   "source": [
    "### Talk about some of the relationships you observed in this part of the investigation. Were there features that strengthened each other in terms of looking at your feature(s) of interest?\n",
    "\n",
    "> I chose to investigate subscribers' relationships among age groups, weekday, and the hour of a day. I generated a heatmap based on the rank and values above.  The heat maps of four age groups all show that the peak hours are during 7-9 am and  5-7 pm from Monday to Friday, which is generally the time of commuting and working. During the weekend, people behaved differently. They rode much less than the weekday and no longer rode much during commuting time. \n",
    "\n",
    "### Were there any interesting or surprising interactions between features?\n",
    "\n",
    "> In the group of age 40-60, the color distribution of the heatmap shows that higher rate of the people rode during non-commuting hours."
   ]
  }
 ],
 "metadata": {
  "kernelspec": {
   "display_name": "Python 3",
   "language": "python",
   "name": "python3"
  },
  "language_info": {
   "codemirror_mode": {
    "name": "ipython",
    "version": 3
   },
   "file_extension": ".py",
   "mimetype": "text/x-python",
   "name": "python",
   "nbconvert_exporter": "python",
   "pygments_lexer": "ipython3",
   "version": "3.7.1"
  }
 },
 "nbformat": 4,
 "nbformat_minor": 2
}
