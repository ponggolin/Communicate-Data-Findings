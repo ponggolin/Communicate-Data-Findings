{
 "cells": [
  {
   "cell_type": "markdown",
   "metadata": {},
   "source": [
    "# Project: Communicate Data Findings\n",
    "## by Che-Hsien Lin\n",
    "\n",
    "## Preliminary Wrangling  \n",
    "\n",
    "In this project, I will focus on the data of bike trips from 2018 to February 2019.  \n",
    "\n",
    "Ford GoBike Data: https://s3.amazonaws.com/fordgobike-data/index.html"
   ]
  },
  {
   "cell_type": "code",
   "execution_count": 1,
   "metadata": {},
   "outputs": [],
   "source": [
    "# Import all packages and set plots to be embedded inline\n",
    "from os import makedirs, listdir, path, getcwd  \n",
    "import pandas as pd\n",
    "from requests import get\n",
    "from zipfile import ZipFile\n",
    "from io import BytesIO\n",
    "\n",
    "\n",
    "import numpy as np\n",
    "import matplotlib\n",
    "from matplotlib import pyplot as plt\n",
    "import matplotlib.ticker as tick\n",
    "import seaborn as sns\n",
    "import datetime\n",
    "import math\n",
    "import calendar\n",
    "import warnings\n",
    "warnings.filterwarnings('ignore')\n",
    "from IPython.display import Image\n",
    "%matplotlib inline"
   ]
  },
  {
   "cell_type": "code",
   "execution_count": 2,
   "metadata": {},
   "outputs": [],
   "source": [
    "# Make a folder for saving csv files\n",
    "folder_name_of_csvs = 'trip_data_files'\n",
    "makedirs(folder_name_of_csvs)"
   ]
  },
  {
   "cell_type": "code",
   "execution_count": 3,
   "metadata": {},
   "outputs": [],
   "source": [
    "# Download 2017 data to csv file\n",
    "pd.read_csv('https://s3.amazonaws.com/fordgobike-data/2017-fordgobike-tripdata.csv').to_csv('{}/2017-forgobike-tripdata.csv'.format(folder_name_of_csvs))"
   ]
  },
  {
   "cell_type": "code",
   "execution_count": 4,
   "metadata": {},
   "outputs": [],
   "source": [
    "# Download 2018 zip files and extract them\n",
    "for month in range(1,13):\n",
    "    month_string = str(month)\n",
    "    month_leading_zero = month_string.zfill(2)\n",
    "    \n",
    "    # Create the url and download zip files from it\n",
    "    bike_data_url_2018 = 'https://s3.amazonaws.com/fordgobike-data/2018' + month_leading_zero + '-fordgobike-tripdata.csv.zip'\n",
    "    response_2018 = get(bike_data_url_2018)\n",
    "    \n",
    "    # Code below opens zip file; BytesIO returns a readable and writeable view of the contents\n",
    "    unzipped_file_2018 = ZipFile(BytesIO(response_2018.content)) \n",
    "    \n",
    "    # Puts extracted zip file into folder trip_data_files\n",
    "    unzipped_file_2018.extractall(folder_name_of_csvs)"
   ]
  },
  {
   "cell_type": "code",
   "execution_count": 5,
   "metadata": {},
   "outputs": [],
   "source": [
    "# Download 2019 zip files and extract them (only January and February)\n",
    "for month in range(1,3):\n",
    "    month_string = str(month)\n",
    "    month_leading_zero = month_string.zfill(2)\n",
    "    \n",
    "    # Create the url and download zip files from it\n",
    "    bike_data_url_2019 = 'https://s3.amazonaws.com/fordgobike-data/2019' + month_leading_zero + '-fordgobike-tripdata.csv.zip'\n",
    "    response_2019 = get(bike_data_url_2019)\n",
    "    \n",
    "    # code below opens zip file; BytesIO returns a readable and writeable view of the contents;\n",
    "    unzipped_file_2019 = ZipFile(BytesIO(response_2019.content))    \n",
    "    \n",
    "    # puts extracted zip file into folder trip_data_files\n",
    "    unzipped_file_2019.extractall(folder_name_of_csvs)"
   ]
  },
  {
   "cell_type": "code",
   "execution_count": 6,
   "metadata": {},
   "outputs": [],
   "source": [
    "# Combine all csv files to one data frame\n",
    "list_csvs = []\n",
    "for file_name in listdir(folder_name_of_csvs):\n",
    "    list_csvs.append(pd.read_csv(folder_name_of_csvs+'/'+file_name))\n",
    "df = pd.concat(list_csvs)\n",
    "df.to_csv('data.csv')"
   ]
  },
  {
   "cell_type": "code",
   "execution_count": 2,
   "metadata": {},
   "outputs": [],
   "source": [
    "# Examine DataFrame\n",
    "df = pd.read_csv('data.csv')"
   ]
  },
  {
   "cell_type": "code",
   "execution_count": 3,
   "metadata": {},
   "outputs": [
    {
     "name": "stdout",
     "output_type": "stream",
     "text": [
      "<class 'pandas.core.frame.DataFrame'>\n",
      "RangeIndex: 2758915 entries, 0 to 2758914\n",
      "Data columns (total 18 columns):\n",
      "Unnamed: 0                 int64\n",
      "Unnamed: 0.1               float64\n",
      "bike_id                    int64\n",
      "bike_share_for_all_trip    object\n",
      "duration_sec               int64\n",
      "end_station_id             float64\n",
      "end_station_latitude       float64\n",
      "end_station_longitude      float64\n",
      "end_station_name           object\n",
      "end_time                   object\n",
      "member_birth_year          float64\n",
      "member_gender              object\n",
      "start_station_id           float64\n",
      "start_station_latitude     float64\n",
      "start_station_longitude    float64\n",
      "start_station_name         object\n",
      "start_time                 object\n",
      "user_type                  object\n",
      "dtypes: float64(8), int64(3), object(7)\n",
      "memory usage: 378.9+ MB\n"
     ]
    }
   ],
   "source": [
    "df.info()"
   ]
  },
  {
   "cell_type": "code",
   "execution_count": 4,
   "metadata": {
    "scrolled": false
   },
   "outputs": [
    {
     "data": {
      "text/html": [
       "<div>\n",
       "<style scoped>\n",
       "    .dataframe tbody tr th:only-of-type {\n",
       "        vertical-align: middle;\n",
       "    }\n",
       "\n",
       "    .dataframe tbody tr th {\n",
       "        vertical-align: top;\n",
       "    }\n",
       "\n",
       "    .dataframe thead th {\n",
       "        text-align: right;\n",
       "    }\n",
       "</style>\n",
       "<table border=\"1\" class=\"dataframe\">\n",
       "  <thead>\n",
       "    <tr style=\"text-align: right;\">\n",
       "      <th></th>\n",
       "      <th>Unnamed: 0</th>\n",
       "      <th>Unnamed: 0.1</th>\n",
       "      <th>bike_id</th>\n",
       "      <th>bike_share_for_all_trip</th>\n",
       "      <th>duration_sec</th>\n",
       "      <th>end_station_id</th>\n",
       "      <th>end_station_latitude</th>\n",
       "      <th>end_station_longitude</th>\n",
       "      <th>end_station_name</th>\n",
       "      <th>end_time</th>\n",
       "      <th>member_birth_year</th>\n",
       "      <th>member_gender</th>\n",
       "      <th>start_station_id</th>\n",
       "      <th>start_station_latitude</th>\n",
       "      <th>start_station_longitude</th>\n",
       "      <th>start_station_name</th>\n",
       "      <th>start_time</th>\n",
       "      <th>user_type</th>\n",
       "    </tr>\n",
       "  </thead>\n",
       "  <tbody>\n",
       "    <tr>\n",
       "      <th>0</th>\n",
       "      <td>0</td>\n",
       "      <td>0.0</td>\n",
       "      <td>96</td>\n",
       "      <td>NaN</td>\n",
       "      <td>80110</td>\n",
       "      <td>43.0</td>\n",
       "      <td>37.778768</td>\n",
       "      <td>-122.415929</td>\n",
       "      <td>San Francisco Public Library (Grove St at Hyde...</td>\n",
       "      <td>2018-01-01 15:12:50.2450</td>\n",
       "      <td>1987.0</td>\n",
       "      <td>Male</td>\n",
       "      <td>74.0</td>\n",
       "      <td>37.776435</td>\n",
       "      <td>-122.426244</td>\n",
       "      <td>Laguna St at Hayes St</td>\n",
       "      <td>2017-12-31 16:57:39.6540</td>\n",
       "      <td>Customer</td>\n",
       "    </tr>\n",
       "    <tr>\n",
       "      <th>1</th>\n",
       "      <td>1</td>\n",
       "      <td>1.0</td>\n",
       "      <td>88</td>\n",
       "      <td>NaN</td>\n",
       "      <td>78800</td>\n",
       "      <td>96.0</td>\n",
       "      <td>37.766210</td>\n",
       "      <td>-122.426614</td>\n",
       "      <td>Dolores St at 15th St</td>\n",
       "      <td>2018-01-01 13:49:55.6170</td>\n",
       "      <td>1965.0</td>\n",
       "      <td>Female</td>\n",
       "      <td>284.0</td>\n",
       "      <td>37.784872</td>\n",
       "      <td>-122.400876</td>\n",
       "      <td>Yerba Buena Center for the Arts (Howard St at ...</td>\n",
       "      <td>2017-12-31 15:56:34.8420</td>\n",
       "      <td>Customer</td>\n",
       "    </tr>\n",
       "    <tr>\n",
       "      <th>2</th>\n",
       "      <td>2</td>\n",
       "      <td>2.0</td>\n",
       "      <td>1094</td>\n",
       "      <td>NaN</td>\n",
       "      <td>45768</td>\n",
       "      <td>245.0</td>\n",
       "      <td>37.870348</td>\n",
       "      <td>-122.267764</td>\n",
       "      <td>Downtown Berkeley BART</td>\n",
       "      <td>2018-01-01 11:28:36.8830</td>\n",
       "      <td>NaN</td>\n",
       "      <td>NaN</td>\n",
       "      <td>245.0</td>\n",
       "      <td>37.870348</td>\n",
       "      <td>-122.267764</td>\n",
       "      <td>Downtown Berkeley BART</td>\n",
       "      <td>2017-12-31 22:45:48.4110</td>\n",
       "      <td>Customer</td>\n",
       "    </tr>\n",
       "    <tr>\n",
       "      <th>3</th>\n",
       "      <td>3</td>\n",
       "      <td>3.0</td>\n",
       "      <td>2831</td>\n",
       "      <td>NaN</td>\n",
       "      <td>62172</td>\n",
       "      <td>5.0</td>\n",
       "      <td>37.783899</td>\n",
       "      <td>-122.408445</td>\n",
       "      <td>Powell St BART Station (Market St at 5th St)</td>\n",
       "      <td>2018-01-01 10:47:23.5310</td>\n",
       "      <td>NaN</td>\n",
       "      <td>NaN</td>\n",
       "      <td>60.0</td>\n",
       "      <td>37.774520</td>\n",
       "      <td>-122.409449</td>\n",
       "      <td>8th St at Ringold St</td>\n",
       "      <td>2017-12-31 17:31:10.6360</td>\n",
       "      <td>Customer</td>\n",
       "    </tr>\n",
       "    <tr>\n",
       "      <th>4</th>\n",
       "      <td>4</td>\n",
       "      <td>4.0</td>\n",
       "      <td>3167</td>\n",
       "      <td>NaN</td>\n",
       "      <td>43603</td>\n",
       "      <td>247.0</td>\n",
       "      <td>37.867789</td>\n",
       "      <td>-122.265896</td>\n",
       "      <td>Fulton St at Bancroft Way</td>\n",
       "      <td>2018-01-01 02:29:57.5710</td>\n",
       "      <td>1997.0</td>\n",
       "      <td>Female</td>\n",
       "      <td>239.0</td>\n",
       "      <td>37.868813</td>\n",
       "      <td>-122.258764</td>\n",
       "      <td>Bancroft Way at Telegraph Ave</td>\n",
       "      <td>2017-12-31 14:23:14.0010</td>\n",
       "      <td>Subscriber</td>\n",
       "    </tr>\n",
       "  </tbody>\n",
       "</table>\n",
       "</div>"
      ],
      "text/plain": [
       "   Unnamed: 0  Unnamed: 0.1  bike_id bike_share_for_all_trip  duration_sec  \\\n",
       "0           0           0.0       96                     NaN         80110   \n",
       "1           1           1.0       88                     NaN         78800   \n",
       "2           2           2.0     1094                     NaN         45768   \n",
       "3           3           3.0     2831                     NaN         62172   \n",
       "4           4           4.0     3167                     NaN         43603   \n",
       "\n",
       "   end_station_id  end_station_latitude  end_station_longitude  \\\n",
       "0            43.0             37.778768            -122.415929   \n",
       "1            96.0             37.766210            -122.426614   \n",
       "2           245.0             37.870348            -122.267764   \n",
       "3             5.0             37.783899            -122.408445   \n",
       "4           247.0             37.867789            -122.265896   \n",
       "\n",
       "                                    end_station_name  \\\n",
       "0  San Francisco Public Library (Grove St at Hyde...   \n",
       "1                              Dolores St at 15th St   \n",
       "2                             Downtown Berkeley BART   \n",
       "3       Powell St BART Station (Market St at 5th St)   \n",
       "4                          Fulton St at Bancroft Way   \n",
       "\n",
       "                   end_time  member_birth_year member_gender  \\\n",
       "0  2018-01-01 15:12:50.2450             1987.0          Male   \n",
       "1  2018-01-01 13:49:55.6170             1965.0        Female   \n",
       "2  2018-01-01 11:28:36.8830                NaN           NaN   \n",
       "3  2018-01-01 10:47:23.5310                NaN           NaN   \n",
       "4  2018-01-01 02:29:57.5710             1997.0        Female   \n",
       "\n",
       "   start_station_id  start_station_latitude  start_station_longitude  \\\n",
       "0              74.0               37.776435              -122.426244   \n",
       "1             284.0               37.784872              -122.400876   \n",
       "2             245.0               37.870348              -122.267764   \n",
       "3              60.0               37.774520              -122.409449   \n",
       "4             239.0               37.868813              -122.258764   \n",
       "\n",
       "                                  start_station_name  \\\n",
       "0                              Laguna St at Hayes St   \n",
       "1  Yerba Buena Center for the Arts (Howard St at ...   \n",
       "2                             Downtown Berkeley BART   \n",
       "3                               8th St at Ringold St   \n",
       "4                      Bancroft Way at Telegraph Ave   \n",
       "\n",
       "                 start_time   user_type  \n",
       "0  2017-12-31 16:57:39.6540    Customer  \n",
       "1  2017-12-31 15:56:34.8420    Customer  \n",
       "2  2017-12-31 22:45:48.4110    Customer  \n",
       "3  2017-12-31 17:31:10.6360    Customer  \n",
       "4  2017-12-31 14:23:14.0010  Subscriber  "
      ]
     },
     "execution_count": 4,
     "metadata": {},
     "output_type": "execute_result"
    }
   ],
   "source": [
    "df.head()"
   ]
  },
  {
   "cell_type": "code",
   "execution_count": 5,
   "metadata": {
    "scrolled": false
   },
   "outputs": [
    {
     "name": "stdout",
     "output_type": "stream",
     "text": [
      "<class 'pandas.core.frame.DataFrame'>\n",
      "RangeIndex: 2758915 entries, 0 to 2758914\n",
      "Data columns (total 15 columns):\n",
      "bike_id                    int64\n",
      "duration_sec               int64\n",
      "end_station_id             float64\n",
      "end_station_latitude       float64\n",
      "end_station_longitude      float64\n",
      "end_station_name           object\n",
      "end_time                   object\n",
      "member_birth_year          float64\n",
      "member_gender              object\n",
      "start_station_id           float64\n",
      "start_station_latitude     float64\n",
      "start_station_longitude    float64\n",
      "start_station_name         object\n",
      "start_time                 object\n",
      "user_type                  object\n",
      "dtypes: float64(7), int64(2), object(6)\n",
      "memory usage: 315.7+ MB\n"
     ]
    }
   ],
   "source": [
    "# Drop unwanted columns\n",
    "df = df.drop(['Unnamed: 0', 'Unnamed: 0.1', 'bike_share_for_all_trip'], axis=1)\n",
    "df.info()"
   ]
  },
  {
   "cell_type": "code",
   "execution_count": 6,
   "metadata": {
    "scrolled": false
   },
   "outputs": [
    {
     "data": {
      "text/plain": [
       "141.0         1\n",
       "109.0         1\n",
       "116.0         1\n",
       "113.0         2\n",
       "133.0         2\n",
       "89.0          2\n",
       "130.0         3\n",
       "110.0         4\n",
       "138.0         5\n",
       "112.0         7\n",
       "115.0        12\n",
       "105.0        18\n",
       "92.0         21\n",
       "131.0        23\n",
       "87.0         34\n",
       "118.0        48\n",
       "91.0         50\n",
       "18.0         54\n",
       "81.0         69\n",
       "79.0         70\n",
       "80.0         92\n",
       "99.0         96\n",
       "85.0        110\n",
       "78.0        199\n",
       "95.0        200\n",
       "108.0       274\n",
       "84.0        291\n",
       "83.0        305\n",
       "86.0        307\n",
       "88.0        347\n",
       "          ...  \n",
       "49.0      29969\n",
       "54.0      32758\n",
       "47.0      32865\n",
       "22.0      35021\n",
       "48.0      36652\n",
       "51.0      37094\n",
       "46.0      38368\n",
       "45.0      43065\n",
       "43.0      43379\n",
       "23.0      47237\n",
       "44.0      50382\n",
       "41.0      53988\n",
       "42.0      56293\n",
       "40.0      58978\n",
       "24.0      72096\n",
       "39.0      73732\n",
       "38.0      73852\n",
       "25.0      87121\n",
       "37.0      94489\n",
       "27.0      97424\n",
       "36.0      97687\n",
       "35.0     106106\n",
       "26.0     110048\n",
       "28.0     111039\n",
       "33.0     112256\n",
       "29.0     116698\n",
       "34.0     118119\n",
       "30.0     122262\n",
       "32.0     126014\n",
       "31.0     147626\n",
       "Name: member_age, Length: 91, dtype: int64"
      ]
     },
     "execution_count": 6,
     "metadata": {},
     "output_type": "execute_result"
    }
   ],
   "source": [
    "# Get member age and see distribution\n",
    "df['member_age'] = 2019 - df['member_birth_year'] \n",
    "df['member_age'].value_counts().sort_values()"
   ]
  },
  {
   "cell_type": "code",
   "execution_count": 7,
   "metadata": {
    "scrolled": true
   },
   "outputs": [
    {
     "data": {
      "image/png": "[encoded data removed]",
      "text/plain": [
       "<Figure size 720x360 with 1 Axes>"
      ]
     },
     "metadata": {
      "needs_background": "light"
     },
     "output_type": "display_data"
    }
   ],
   "source": [
    "plt.figure(figsize=(10,5))\n",
    "sns.boxplot(x='member_age', data=df, palette='Blues', orient='h')\n",
    "plt.title(\"The age distribution of users\", fontsize=20, y=1)\n",
    "plt.xlabel(\"member_age\", fontsize=15, labelpad=15)\n",
    "plt.savefig('image01.png');"
   ]
  },
  {
   "cell_type": "code",
   "execution_count": 8,
   "metadata": {
    "scrolled": true
   },
   "outputs": [
    {
     "name": "stdout",
     "output_type": "stream",
     "text": [
      "<class 'pandas.core.frame.DataFrame'>\n",
      "Int64Index: 2495370 entries, 0 to 2758914\n",
      "Data columns (total 15 columns):\n",
      "bike_id                    int64\n",
      "duration_sec               int64\n",
      "end_station_id             float64\n",
      "end_station_latitude       float64\n",
      "end_station_longitude      float64\n",
      "end_station_name           object\n",
      "end_time                   object\n",
      "member_gender              object\n",
      "start_station_id           float64\n",
      "start_station_latitude     float64\n",
      "start_station_longitude    float64\n",
      "start_station_name         object\n",
      "start_time                 object\n",
      "user_type                  object\n",
      "member_age                 float64\n",
      "dtypes: float64(7), int64(2), object(6)\n",
      "memory usage: 304.6+ MB\n"
     ]
    }
   ],
   "source": [
    "# Filter the data which user_age <= 60\n",
    "df = df[df['member_age'] <= 60]\n",
    "df = df.drop(['member_birth_year'], axis=1)\n",
    "df.info()"
   ]
  },
  {
   "cell_type": "code",
   "execution_count": 9,
   "metadata": {
    "scrolled": false
   },
   "outputs": [
    {
     "data": {
      "text/plain": [
       "Male      1845417\n",
       "Female     610267\n",
       "Other       39686\n",
       "Name: member_gender, dtype: int64"
      ]
     },
     "execution_count": 9,
     "metadata": {},
     "output_type": "execute_result"
    }
   ],
   "source": [
    "df.member_gender.value_counts()"
   ]
  },
  {
   "cell_type": "code",
   "execution_count": 10,
   "metadata": {
    "scrolled": true
   },
   "outputs": [
    {
     "data": {
      "text/plain": [
       "Male      1845417\n",
       "Female     610267\n",
       "Name: member_gender, dtype: int64"
      ]
     },
     "execution_count": 10,
     "metadata": {},
     "output_type": "execute_result"
    }
   ],
   "source": [
    "# Filter the data which member_gender is Male or Female\n",
    "df = df[df['member_gender'] != 'Other']\n",
    "df.member_gender.value_counts()"
   ]
  },
  {
   "cell_type": "code",
   "execution_count": 11,
   "metadata": {},
   "outputs": [
    {
     "data": {
      "text/plain": [
       "2455684"
      ]
     },
     "execution_count": 11,
     "metadata": {},
     "output_type": "execute_result"
    }
   ],
   "source": [
    "df.star"
   ]
  },
  {
   "cell_type": "markdown",
   "metadata": {},
   "source": [
    "### What is the structure of your dataset?\n",
    "\n",
    "> There are 2455684 rides in the data frame which only include member age <= 60. The data is about the bike id, bike stations name/latitude/longtitude, member type/age/gender, and also time & duration.\n",
    "\n",
    "### What is/are the main feature(s) of interest in your dataset?\n",
    "\n",
    "> The main features of interest are riding duration, gender, age, and user type.\n",
    "\n",
    "### What features in the dataset do you think will help support your investigation into your feature(s) of interest?\n",
    "\n",
    "> I think age and user type will help my investigation."
   ]
  },
  {
   "cell_type": "markdown",
   "metadata": {},
   "source": [
    "## Univariate Exploration"
   ]
  },
  {
   "cell_type": "code",
   "execution_count": null,
   "metadata": {},
   "outputs": [],
   "source": []
  },
  {
   "cell_type": "markdown",
   "metadata": {},
   "source": [
    "### Discuss the distribution(s) of your variable(s) of interest. Were there any unusual points? Did you need to perform any transformations?\n",
    "\n",
    "> Your answer here!\n",
    "\n",
    "### Of the features you investigated, were there any unusual distributions? Did you perform any operations on the data to tidy, adjust, or change the form of the data? If so, why did you do this?\n",
    "\n",
    "> Your answer here!"
   ]
  },
  {
   "cell_type": "markdown",
   "metadata": {},
   "source": [
    "## Bivariate Exploration\n",
    "\n",
    "> In this section, investigate relationships between pairs of variables in your\n",
    "data. Make sure the variables that you cover here have been introduced in some\n",
    "fashion in the previous section (univariate exploration)."
   ]
  },
  {
   "cell_type": "code",
   "execution_count": null,
   "metadata": {},
   "outputs": [],
   "source": []
  },
  {
   "cell_type": "markdown",
   "metadata": {},
   "source": [
    "### Talk about some of the relationships you observed in this part of the investigation. How did the feature(s) of interest vary with other features in the dataset?\n",
    "\n",
    "> Your answer here!\n",
    "\n",
    "### Did you observe any interesting relationships between the other features (not the main feature(s) of interest)?\n",
    "\n",
    "> Your answer here!"
   ]
  },
  {
   "cell_type": "markdown",
   "metadata": {},
   "source": [
    "## Multivariate Exploration\n",
    "\n",
    "> Create plots of three or more variables to investigate your data even\n",
    "further. Make sure that your investigations are justified, and follow from\n",
    "your work in the previous sections."
   ]
  },
  {
   "cell_type": "code",
   "execution_count": null,
   "metadata": {},
   "outputs": [],
   "source": []
  },
  {
   "cell_type": "markdown",
   "metadata": {},
   "source": [
    "### Talk about some of the relationships you observed in this part of the investigation. Were there features that strengthened each other in terms of looking at your feature(s) of interest?\n",
    "\n",
    "> Your answer here!\n",
    "\n",
    "### Were there any interesting or surprising interactions between features?\n",
    "\n",
    "> Your answer here!"
   ]
  },
  {
   "cell_type": "markdown",
   "metadata": {},
   "source": [
    "> At the end of your report, make sure that you export the notebook as an\n",
    "html file from the `File > Download as... > HTML` menu. Make sure you keep\n",
    "track of where the exported file goes, so you can put it in the same folder\n",
    "as this notebook for project submission. Also, make sure you remove all of\n",
    "the quote-formatted guide notes like this one before you finish your report!"
   ]
  },
  {
   "cell_type": "code",
   "execution_count": null,
   "metadata": {},
   "outputs": [],
   "source": []
  }
 ],
 "metadata": {
  "kernelspec": {
   "display_name": "Python 3",
   "language": "python",
   "name": "python3"
  },
  "language_info": {
   "codemirror_mode": {
    "name": "ipython",
    "version": 3
   },
   "file_extension": ".py",
   "mimetype": "text/x-python",
   "name": "python",
   "nbconvert_exporter": "python",
   "pygments_lexer": "ipython3",
   "version": "3.7.1"
  }
 },
 "nbformat": 4,
 "nbformat_minor": 2
}
